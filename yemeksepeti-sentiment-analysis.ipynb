{
 "cells": [
  {
   "cell_type": "code",
   "execution_count": 1,
   "id": "def323cb",
   "metadata": {
    "_uuid": "70282bce8b42a51e4d44f2c7d85c4ca9567b0fd4",
    "execution": {
     "iopub.execute_input": "2021-12-15T11:40:26.140920Z",
     "iopub.status.busy": "2021-12-15T11:40:26.140146Z",
     "iopub.status.idle": "2021-12-15T11:41:00.354292Z",
     "shell.execute_reply": "2021-12-15T11:41:00.353170Z"
    },
    "papermill": {
     "duration": 34.300769,
     "end_time": "2021-12-15T11:41:00.354464",
     "exception": false,
     "start_time": "2021-12-15T11:40:26.053695",
     "status": "completed"
    },
    "tags": []
   },
   "outputs": [
    {
     "name": "stdout",
     "output_type": "stream",
     "text": [
      "Requirement already satisfied: gensim in /opt/conda/lib/python3.7/site-packages (4.0.1)\r\n",
      "Collecting gensim\r\n",
      "  Downloading gensim-4.1.2-cp37-cp37m-manylinux_2_12_x86_64.manylinux2010_x86_64.whl (24.1 MB)\r\n",
      "     |████████████████████████████████| 24.1 MB 4.4 MB/s            \r\n",
      "\u001b[?25hRequirement already satisfied: scipy>=0.18.1 in /opt/conda/lib/python3.7/site-packages (from gensim) (1.7.2)\r\n",
      "Requirement already satisfied: smart-open>=1.8.1 in /opt/conda/lib/python3.7/site-packages (from gensim) (5.2.1)\r\n",
      "Requirement already satisfied: numpy>=1.17.0 in /opt/conda/lib/python3.7/site-packages (from gensim) (1.19.5)\r\n",
      "Installing collected packages: gensim\r\n",
      "  Attempting uninstall: gensim\r\n",
      "    Found existing installation: gensim 4.0.1\r\n",
      "    Uninstalling gensim-4.0.1:\r\n",
      "      Successfully uninstalled gensim-4.0.1\r\n",
      "Successfully installed gensim-4.1.2\r\n",
      "\u001b[33mWARNING: Running pip as the 'root' user can result in broken permissions and conflicting behaviour with the system package manager. It is recommended to use a virtual environment instead: https://pip.pypa.io/warnings/venv\u001b[0m\r\n",
      "Requirement already satisfied: pandas in /opt/conda/lib/python3.7/site-packages (1.3.4)\r\n",
      "Collecting pandas\r\n",
      "  Downloading pandas-1.3.5-cp37-cp37m-manylinux_2_17_x86_64.manylinux2014_x86_64.whl (11.3 MB)\r\n",
      "     |████████████████████████████████| 11.3 MB 5.0 MB/s            \r\n",
      "\u001b[?25hRequirement already satisfied: pytz>=2017.3 in /opt/conda/lib/python3.7/site-packages (from pandas) (2021.3)\r\n",
      "Requirement already satisfied: numpy>=1.17.3 in /opt/conda/lib/python3.7/site-packages (from pandas) (1.19.5)\r\n",
      "Requirement already satisfied: python-dateutil>=2.7.3 in /opt/conda/lib/python3.7/site-packages (from pandas) (2.8.0)\r\n",
      "Requirement already satisfied: six>=1.5 in /opt/conda/lib/python3.7/site-packages (from python-dateutil>=2.7.3->pandas) (1.16.0)\r\n",
      "Installing collected packages: pandas\r\n",
      "  Attempting uninstall: pandas\r\n",
      "    Found existing installation: pandas 1.3.4\r\n",
      "    Uninstalling pandas-1.3.4:\r\n",
      "      Successfully uninstalled pandas-1.3.4\r\n",
      "\u001b[31mERROR: pip's dependency resolver does not currently take into account all the packages that are installed. This behaviour is the source of the following dependency conflicts.\r\n",
      "dask-cudf 21.10.1 requires cupy-cuda114, which is not installed.\r\n",
      "cudf 21.10.1 requires cupy-cuda110, which is not installed.\r\n",
      "beatrix-jupyterlab 3.1.4 requires google-cloud-bigquery-storage, which is not installed.\r\n",
      "tfx-bsl 1.4.0 requires absl-py<0.13,>=0.9, but you have absl-py 0.15.0 which is incompatible.\r\n",
      "tfx-bsl 1.4.0 requires pyarrow<6,>=1, but you have pyarrow 6.0.0 which is incompatible.\r\n",
      "tensorflow-transform 1.4.0 requires absl-py<0.13,>=0.9, but you have absl-py 0.15.0 which is incompatible.\r\n",
      "tensorflow-transform 1.4.0 requires pyarrow<6,>=1, but you have pyarrow 6.0.0 which is incompatible.\r\n",
      "pdpbox 0.2.1 requires matplotlib==3.1.1, but you have matplotlib 3.5.0 which is incompatible.\r\n",
      "dask-cudf 21.10.1 requires dask==2021.09.1, but you have dask 2021.11.2 which is incompatible.\r\n",
      "dask-cudf 21.10.1 requires distributed==2021.09.1, but you have distributed 2021.11.2 which is incompatible.\u001b[0m\r\n",
      "Successfully installed pandas-1.3.5\r\n",
      "\u001b[33mWARNING: Running pip as the 'root' user can result in broken permissions and conflicting behaviour with the system package manager. It is recommended to use a virtual environment instead: https://pip.pypa.io/warnings/venv\u001b[0m\r\n"
     ]
    }
   ],
   "source": [
    "!pip install gensim --upgrade\n",
    "!pip install pandas --upgrade"
   ]
  },
  {
   "cell_type": "code",
   "execution_count": 2,
   "id": "0ca8c002",
   "metadata": {
    "_uuid": "303e72966af732ddef0bd8108a321095314e44af",
    "execution": {
     "iopub.execute_input": "2021-12-15T11:41:00.594241Z",
     "iopub.status.busy": "2021-12-15T11:41:00.593404Z",
     "iopub.status.idle": "2021-12-15T11:41:05.718362Z",
     "shell.execute_reply": "2021-12-15T11:41:05.717450Z",
     "shell.execute_reply.started": "2021-12-15T10:53:01.344023Z"
    },
    "papermill": {
     "duration": 5.241489,
     "end_time": "2021-12-15T11:41:05.718514",
     "exception": false,
     "start_time": "2021-12-15T11:41:00.477025",
     "status": "completed"
    },
    "tags": []
   },
   "outputs": [],
   "source": [
    "# DataFrame\n",
    "import pandas as pd\n",
    "\n",
    "# Matplot\n",
    "import matplotlib.pyplot as plt\n",
    "%matplotlib inline\n",
    "\n",
    "# Scikit-learn\n",
    "from sklearn.model_selection import train_test_split\n",
    "from sklearn.preprocessing import LabelEncoder\n",
    "from sklearn.metrics import confusion_matrix, classification_report, accuracy_score\n",
    "from sklearn.manifold import TSNE\n",
    "from sklearn.feature_extraction.text import TfidfVectorizer\n",
    "\n",
    "# Keras\n",
    "from tensorflow.keras.preprocessing.text import Tokenizer\n",
    "from tensorflow.keras.preprocessing.sequence import pad_sequences\n",
    "from tensorflow.keras.models import Sequential\n",
    "from tensorflow.keras.layers import Activation, Dense, Dropout, Embedding, Flatten, Conv1D, MaxPooling1D, LSTM, SpatialDropout1D\n",
    "from tensorflow.keras import utils\n",
    "from tensorflow.keras.callbacks import ReduceLROnPlateau, EarlyStopping\n",
    "import tensorflow as tf\n",
    "\n",
    "# nltk\n",
    "import nltk\n",
    "from nltk.corpus import stopwords\n",
    "\n",
    "# Word2vec\n",
    "import gensim\n",
    "\n",
    "# Utility\n",
    "import re\n",
    "import numpy as np\n",
    "import os\n",
    "from collections import Counter\n",
    "import logging\n",
    "import time\n",
    "import pickle\n",
    "import itertools\n",
    "\n",
    "# Set log\n",
    "logging.basicConfig(format='%(asctime)s : %(levelname)s : %(message)s', level=logging.INFO)"
   ]
  },
  {
   "cell_type": "code",
   "execution_count": 3,
   "id": "c64125f6",
   "metadata": {
    "_uuid": "35e1a89dead5fd160e4c9a024a21d2e569fc89ff",
    "execution": {
     "iopub.execute_input": "2021-12-15T11:41:05.851198Z",
     "iopub.status.busy": "2021-12-15T11:41:05.850611Z",
     "iopub.status.idle": "2021-12-15T11:41:13.512755Z",
     "shell.execute_reply": "2021-12-15T11:41:13.512276Z",
     "shell.execute_reply.started": "2021-12-15T10:53:01.508967Z"
    },
    "papermill": {
     "duration": 7.730837,
     "end_time": "2021-12-15T11:41:13.512900",
     "exception": false,
     "start_time": "2021-12-15T11:41:05.782063",
     "status": "completed"
    },
    "tags": []
   },
   "outputs": [
    {
     "name": "stdout",
     "output_type": "stream",
     "text": [
      "[nltk_data] Downloading package stopwords to /usr/share/nltk_data...\n",
      "[nltk_data]   Package stopwords is already up-to-date!\n",
      "Collecting TurkishStemmer\r\n",
      "  Downloading TurkishStemmer-1.3-py3-none-any.whl (20 kB)\r\n",
      "Installing collected packages: TurkishStemmer\r\n",
      "Successfully installed TurkishStemmer-1.3\r\n",
      "\u001b[33mWARNING: Running pip as the 'root' user can result in broken permissions and conflicting behaviour with the system package manager. It is recommended to use a virtual environment instead: https://pip.pypa.io/warnings/venv\u001b[0m\r\n"
     ]
    }
   ],
   "source": [
    "nltk.download('stopwords')\n",
    "!pip install TurkishStemmer\n",
    "from TurkishStemmer import TurkishStemmer\n",
    "stemmer = TurkishStemmer()"
   ]
  },
  {
   "cell_type": "markdown",
   "id": "50cf5eab",
   "metadata": {
    "_uuid": "e8b01a07df001e4abcc745900336c4db06e455f3",
    "papermill": {
     "duration": 0.064289,
     "end_time": "2021-12-15T11:41:13.643792",
     "exception": false,
     "start_time": "2021-12-15T11:41:13.579503",
     "status": "completed"
    },
    "tags": []
   },
   "source": [
    "### Settings"
   ]
  },
  {
   "cell_type": "code",
   "execution_count": 4,
   "id": "e25b3d6c",
   "metadata": {
    "_uuid": "180f0dd2a95419e4602b5c0229822b0111c826f6",
    "execution": {
     "iopub.execute_input": "2021-12-15T11:41:13.779711Z",
     "iopub.status.busy": "2021-12-15T11:41:13.778104Z",
     "iopub.status.idle": "2021-12-15T11:41:13.780302Z",
     "shell.execute_reply": "2021-12-15T11:41:13.780705Z",
     "shell.execute_reply.started": "2021-12-15T10:53:10.976426Z"
    },
    "papermill": {
     "duration": 0.072602,
     "end_time": "2021-12-15T11:41:13.780854",
     "exception": false,
     "start_time": "2021-12-15T11:41:13.708252",
     "status": "completed"
    },
    "tags": []
   },
   "outputs": [],
   "source": [
    "TEST_SIZE = 0.1\n",
    "\n",
    "# TEXT CLENAING\n",
    "TEXT_CLEANING_RE = \"@\\S+|https?:\\S+|http?:\\S|[^a-zA-Z0-9ğüşöçıİĞÜŞÖÇ]+\"\n",
    "\n",
    "# WORD2VEC \n",
    "W2V_SIZE = 300\n",
    "W2V_WINDOW = 7\n",
    "W2V_EPOCH = 16\n",
    "W2V_MIN_COUNT = 10\n",
    "\n",
    "# KERAS\n",
    "SEQUENCE_LENGTH = 300\n",
    "EPOCHS = 3\n",
    "BATCH_SIZE = 512\n",
    "\n",
    "# SENTIMENT\n",
    "# SENTIMENT\n",
    "POSITIVE = \"POSITIVE\"\n",
    "NEGATIVE = \"NEGATIVE\"\n",
    "NEUTRAL = \"NEUTRAL\"\n",
    "SENTIMENT_THRESHOLD = (0.6)\n",
    "\n",
    "# EXPORT\n",
    "KERAS_MODEL = \"model.h5\"\n",
    "WORD2VEC_MODEL = \"model.w2v\"\n",
    "TOKENIZER_MODEL = \"tokenizer.pkl\"\n",
    "ENCODER_MODEL = \"encoder.pkl\""
   ]
  },
  {
   "cell_type": "markdown",
   "id": "f085034d",
   "metadata": {
    "_uuid": "1c3beecc618be68480b3d4f0de08d9d863da1dc1",
    "papermill": {
     "duration": 0.062938,
     "end_time": "2021-12-15T11:41:13.907212",
     "exception": false,
     "start_time": "2021-12-15T11:41:13.844274",
     "status": "completed"
    },
    "tags": []
   },
   "source": [
    "### Read Dataset"
   ]
  },
  {
   "cell_type": "markdown",
   "id": "9ef08b97",
   "metadata": {
    "_uuid": "563b3c44f1092dba0b853747b098e00509098cca",
    "papermill": {
     "duration": 0.064766,
     "end_time": "2021-12-15T11:41:14.035969",
     "exception": false,
     "start_time": "2021-12-15T11:41:13.971203",
     "status": "completed"
    },
    "tags": []
   },
   "source": [
    "### Dataset details\n",
    "* **target**: the polarity of the tweet (1-5 = negative, 6-10 = positive) -> custom feature\n",
    "*we created target feature to be able to make binary classification\n",
    "* **speed**:speed point\n",
    "* **service**: service point\n",
    "* **flavour**: flavour point\n",
    "* **review**: the text of the tweet (Lyx is cool)"
   ]
  },
  {
   "cell_type": "code",
   "execution_count": 5,
   "id": "32482309",
   "metadata": {
    "_uuid": "bba8f91cd70de4f5ea0fb0870ae2029b6e3dcc24",
    "execution": {
     "iopub.execute_input": "2021-12-15T11:41:14.171918Z",
     "iopub.status.busy": "2021-12-15T11:41:14.169041Z",
     "iopub.status.idle": "2021-12-15T11:41:14.392577Z",
     "shell.execute_reply": "2021-12-15T11:41:14.391993Z",
     "shell.execute_reply.started": "2021-12-15T10:53:10.989521Z"
    },
    "papermill": {
     "duration": 0.293151,
     "end_time": "2021-12-15T11:41:14.392702",
     "exception": false,
     "start_time": "2021-12-15T11:41:14.099551",
     "status": "completed"
    },
    "tags": []
   },
   "outputs": [],
   "source": [
    "df= pd.read_csv(\"../input/yorumsepeti/yorumsepeti.csv\", sep=';')"
   ]
  },
  {
   "cell_type": "code",
   "execution_count": 6,
   "id": "8fa21d2c",
   "metadata": {
    "_uuid": "936d499c00c4f1648bc16ca9d283c3b39be7fb10",
    "execution": {
     "iopub.execute_input": "2021-12-15T11:41:14.526096Z",
     "iopub.status.busy": "2021-12-15T11:41:14.525502Z",
     "iopub.status.idle": "2021-12-15T11:41:14.528367Z",
     "shell.execute_reply": "2021-12-15T11:41:14.528822Z",
     "shell.execute_reply.started": "2021-12-15T10:53:11.155648Z"
    },
    "papermill": {
     "duration": 0.071579,
     "end_time": "2021-12-15T11:41:14.528956",
     "exception": false,
     "start_time": "2021-12-15T11:41:14.457377",
     "status": "completed"
    },
    "tags": []
   },
   "outputs": [
    {
     "name": "stdout",
     "output_type": "stream",
     "text": [
      "Dataset size: 60242\n"
     ]
    }
   ],
   "source": [
    "print(\"Dataset size:\", len(df))"
   ]
  },
  {
   "cell_type": "code",
   "execution_count": 7,
   "id": "ebc99137",
   "metadata": {
    "_uuid": "7486ed895b813c5246f97b31b6162b0f65ff763b",
    "execution": {
     "iopub.execute_input": "2021-12-15T11:41:14.666528Z",
     "iopub.status.busy": "2021-12-15T11:41:14.660360Z",
     "iopub.status.idle": "2021-12-15T11:41:14.678102Z",
     "shell.execute_reply": "2021-12-15T11:41:14.677303Z",
     "shell.execute_reply.started": "2021-12-15T10:53:11.164106Z"
    },
    "papermill": {
     "duration": 0.085799,
     "end_time": "2021-12-15T11:41:14.678233",
     "exception": false,
     "start_time": "2021-12-15T11:41:14.592434",
     "status": "completed"
    },
    "tags": []
   },
   "outputs": [
    {
     "data": {
      "text/html": [
       "<div>\n",
       "<style scoped>\n",
       "    .dataframe tbody tr th:only-of-type {\n",
       "        vertical-align: middle;\n",
       "    }\n",
       "\n",
       "    .dataframe tbody tr th {\n",
       "        vertical-align: top;\n",
       "    }\n",
       "\n",
       "    .dataframe thead th {\n",
       "        text-align: right;\n",
       "    }\n",
       "</style>\n",
       "<table border=\"1\" class=\"dataframe\">\n",
       "  <thead>\n",
       "    <tr style=\"text-align: right;\">\n",
       "      <th></th>\n",
       "      <th>speed</th>\n",
       "      <th>service</th>\n",
       "      <th>flavour</th>\n",
       "      <th>review</th>\n",
       "    </tr>\n",
       "  </thead>\n",
       "  <tbody>\n",
       "    <tr>\n",
       "      <th>0</th>\n",
       "      <td>-</td>\n",
       "      <td>1</td>\n",
       "      <td>1</td>\n",
       "      <td>Her zaman komşu fırından sipariş verdiğim için...</td>\n",
       "    </tr>\n",
       "    <tr>\n",
       "      <th>1</th>\n",
       "      <td>-</td>\n",
       "      <td>10</td>\n",
       "      <td>2</td>\n",
       "      <td>sosisli ürün isteyen adama peynirli bişey yol...</td>\n",
       "    </tr>\n",
       "    <tr>\n",
       "      <th>2</th>\n",
       "      <td>-</td>\n",
       "      <td>10</td>\n",
       "      <td>10</td>\n",
       "      <td>Siparisimi cok hizli getiren ekip arkadasiniza...</td>\n",
       "    </tr>\n",
       "    <tr>\n",
       "      <th>3</th>\n",
       "      <td>1</td>\n",
       "      <td>1</td>\n",
       "      <td>7</td>\n",
       "      <td>After waiting more tjan one hour, they didnt d...</td>\n",
       "    </tr>\n",
       "    <tr>\n",
       "      <th>4</th>\n",
       "      <td>4</td>\n",
       "      <td>4</td>\n",
       "      <td>1</td>\n",
       "      <td>Iyi pişsin diye söylememe rağmen az pişmiş gel...</td>\n",
       "    </tr>\n",
       "  </tbody>\n",
       "</table>\n",
       "</div>"
      ],
      "text/plain": [
       "  speed service flavour                                             review\n",
       "0     -       1       1  Her zaman komşu fırından sipariş verdiğim için...\n",
       "1     -      10       2   sosisli ürün isteyen adama peynirli bişey yol...\n",
       "2     -      10      10  Siparisimi cok hizli getiren ekip arkadasiniza...\n",
       "3     1       1       7  After waiting more tjan one hour, they didnt d...\n",
       "4     4       4       1  Iyi pişsin diye söylememe rağmen az pişmiş gel..."
      ]
     },
     "execution_count": 7,
     "metadata": {},
     "output_type": "execute_result"
    }
   ],
   "source": [
    "df.head(5)"
   ]
  },
  {
   "cell_type": "code",
   "execution_count": 8,
   "id": "c47d7e17",
   "metadata": {
    "execution": {
     "iopub.execute_input": "2021-12-15T11:41:14.834570Z",
     "iopub.status.busy": "2021-12-15T11:41:14.824476Z",
     "iopub.status.idle": "2021-12-15T11:41:14.863493Z",
     "shell.execute_reply": "2021-12-15T11:41:14.863090Z",
     "shell.execute_reply.started": "2021-12-15T10:53:11.185977Z"
    },
    "papermill": {
     "duration": 0.121275,
     "end_time": "2021-12-15T11:41:14.863601",
     "exception": false,
     "start_time": "2021-12-15T11:41:14.742326",
     "status": "completed"
    },
    "tags": []
   },
   "outputs": [
    {
     "data": {
      "text/plain": [
       "310"
      ]
     },
     "execution_count": 8,
     "metadata": {},
     "output_type": "execute_result"
    }
   ],
   "source": [
    "df['Character Count'] = df['review'].apply(lambda x: len(str(x)))\n",
    "df['Character Count'].max(axis = 0, skipna = True)"
   ]
  },
  {
   "cell_type": "code",
   "execution_count": 9,
   "id": "1c5fc958",
   "metadata": {
    "execution": {
     "iopub.execute_input": "2021-12-15T11:41:15.004982Z",
     "iopub.status.busy": "2021-12-15T11:41:15.004191Z",
     "iopub.status.idle": "2021-12-15T11:41:15.009280Z",
     "shell.execute_reply": "2021-12-15T11:41:15.008836Z",
     "shell.execute_reply.started": "2021-12-15T10:53:11.255310Z"
    },
    "papermill": {
     "duration": 0.080871,
     "end_time": "2021-12-15T11:41:15.009383",
     "exception": false,
     "start_time": "2021-12-15T11:41:14.928512",
     "status": "completed"
    },
    "tags": []
   },
   "outputs": [
    {
     "data": {
      "text/plain": [
       "33"
      ]
     },
     "execution_count": 9,
     "metadata": {},
     "output_type": "execute_result"
    }
   ],
   "source": [
    "pd.isna(df['review']).sum()"
   ]
  },
  {
   "cell_type": "markdown",
   "id": "d60cee80",
   "metadata": {
    "_uuid": "4329b1573518b03e497213efa7676220734ebb4b",
    "papermill": {
     "duration": 0.064718,
     "end_time": "2021-12-15T11:41:15.141187",
     "exception": false,
     "start_time": "2021-12-15T11:41:15.076469",
     "status": "completed"
    },
    "tags": []
   },
   "source": [
    "### Pre-Process dataset"
   ]
  },
  {
   "cell_type": "code",
   "execution_count": 10,
   "id": "55642731",
   "metadata": {
    "execution": {
     "iopub.execute_input": "2021-12-15T11:41:15.277693Z",
     "iopub.status.busy": "2021-12-15T11:41:15.277010Z",
     "iopub.status.idle": "2021-12-15T11:41:15.294199Z",
     "shell.execute_reply": "2021-12-15T11:41:15.293780Z",
     "shell.execute_reply.started": "2021-12-15T10:53:11.277747Z"
    },
    "papermill": {
     "duration": 0.08856,
     "end_time": "2021-12-15T11:41:15.294309",
     "exception": false,
     "start_time": "2021-12-15T11:41:15.205749",
     "status": "completed"
    },
    "tags": []
   },
   "outputs": [],
   "source": [
    "df = df.dropna(subset=['review'], axis=0)"
   ]
  },
  {
   "cell_type": "code",
   "execution_count": 11,
   "id": "05aa10e8",
   "metadata": {
    "execution": {
     "iopub.execute_input": "2021-12-15T11:41:15.479367Z",
     "iopub.status.busy": "2021-12-15T11:41:15.476300Z",
     "iopub.status.idle": "2021-12-15T11:41:15.544033Z",
     "shell.execute_reply": "2021-12-15T11:41:15.543536Z",
     "shell.execute_reply.started": "2021-12-15T10:53:11.301931Z"
    },
    "papermill": {
     "duration": 0.148113,
     "end_time": "2021-12-15T11:41:15.544154",
     "exception": false,
     "start_time": "2021-12-15T11:41:15.396041",
     "status": "completed"
    },
    "tags": []
   },
   "outputs": [],
   "source": [
    "# We will use the mean of 3 point scoring system\n",
    "# so we will change the dataset to target-text\n",
    "\n",
    "df['speed'] = df['speed'].replace(['-'], np.nan)\n",
    "df['service'] = df['service'].replace(['-'], np.nan)\n",
    "df['flavour'] = df['flavour'].replace(['-'], np.nan)\n",
    "\n",
    "df['speed'] = df['speed'].astype(float)\n",
    "df['service'] = df['service'].astype(float)\n",
    "df['flavour'] = df['flavour'].astype(float)\n",
    "df['review'] = df['review'].astype(str)\n",
    "\n",
    "df = df.assign(target=df.loc[:, ['speed', 'service', 'flavour']].mean(axis=1))\n",
    "df['target'] = round(df['target'])\n",
    "\n",
    "df = df.dropna(subset=['target'], axis=0)\n",
    "df['target'] = df['target'].astype(int)"
   ]
  },
  {
   "cell_type": "code",
   "execution_count": 12,
   "id": "b140b908",
   "metadata": {
    "execution": {
     "iopub.execute_input": "2021-12-15T11:41:15.691848Z",
     "iopub.status.busy": "2021-12-15T11:41:15.690930Z",
     "iopub.status.idle": "2021-12-15T11:41:15.694243Z",
     "shell.execute_reply": "2021-12-15T11:41:15.694639Z",
     "shell.execute_reply.started": "2021-12-15T10:53:11.394336Z"
    },
    "papermill": {
     "duration": 0.08575,
     "end_time": "2021-12-15T11:41:15.694791",
     "exception": false,
     "start_time": "2021-12-15T11:41:15.609041",
     "status": "completed"
    },
    "tags": []
   },
   "outputs": [
    {
     "data": {
      "text/html": [
       "<div>\n",
       "<style scoped>\n",
       "    .dataframe tbody tr th:only-of-type {\n",
       "        vertical-align: middle;\n",
       "    }\n",
       "\n",
       "    .dataframe tbody tr th {\n",
       "        vertical-align: top;\n",
       "    }\n",
       "\n",
       "    .dataframe thead th {\n",
       "        text-align: right;\n",
       "    }\n",
       "</style>\n",
       "<table border=\"1\" class=\"dataframe\">\n",
       "  <thead>\n",
       "    <tr style=\"text-align: right;\">\n",
       "      <th></th>\n",
       "      <th>speed</th>\n",
       "      <th>service</th>\n",
       "      <th>flavour</th>\n",
       "      <th>review</th>\n",
       "      <th>Character Count</th>\n",
       "      <th>target</th>\n",
       "    </tr>\n",
       "  </thead>\n",
       "  <tbody>\n",
       "    <tr>\n",
       "      <th>0</th>\n",
       "      <td>NaN</td>\n",
       "      <td>1.0</td>\n",
       "      <td>1.0</td>\n",
       "      <td>Her zaman komşu fırından sipariş verdiğim için...</td>\n",
       "      <td>202</td>\n",
       "      <td>1</td>\n",
       "    </tr>\n",
       "    <tr>\n",
       "      <th>1</th>\n",
       "      <td>NaN</td>\n",
       "      <td>10.0</td>\n",
       "      <td>2.0</td>\n",
       "      <td>sosisli ürün isteyen adama peynirli bişey yol...</td>\n",
       "      <td>135</td>\n",
       "      <td>6</td>\n",
       "    </tr>\n",
       "    <tr>\n",
       "      <th>2</th>\n",
       "      <td>NaN</td>\n",
       "      <td>10.0</td>\n",
       "      <td>10.0</td>\n",
       "      <td>Siparisimi cok hizli getiren ekip arkadasiniza...</td>\n",
       "      <td>63</td>\n",
       "      <td>10</td>\n",
       "    </tr>\n",
       "    <tr>\n",
       "      <th>3</th>\n",
       "      <td>1.0</td>\n",
       "      <td>1.0</td>\n",
       "      <td>7.0</td>\n",
       "      <td>After waiting more tjan one hour, they didnt d...</td>\n",
       "      <td>85</td>\n",
       "      <td>3</td>\n",
       "    </tr>\n",
       "    <tr>\n",
       "      <th>4</th>\n",
       "      <td>4.0</td>\n",
       "      <td>4.0</td>\n",
       "      <td>1.0</td>\n",
       "      <td>Iyi pişsin diye söylememe rağmen az pişmiş gel...</td>\n",
       "      <td>73</td>\n",
       "      <td>3</td>\n",
       "    </tr>\n",
       "    <tr>\n",
       "      <th>...</th>\n",
       "      <td>...</td>\n",
       "      <td>...</td>\n",
       "      <td>...</td>\n",
       "      <td>...</td>\n",
       "      <td>...</td>\n",
       "      <td>...</td>\n",
       "    </tr>\n",
       "    <tr>\n",
       "      <th>60237</th>\n",
       "      <td>10.0</td>\n",
       "      <td>10.0</td>\n",
       "      <td>10.0</td>\n",
       "      <td>Super.</td>\n",
       "      <td>6</td>\n",
       "      <td>10</td>\n",
       "    </tr>\n",
       "    <tr>\n",
       "      <th>60238</th>\n",
       "      <td>10.0</td>\n",
       "      <td>10.0</td>\n",
       "      <td>10.0</td>\n",
       "      <td>Mükemmelsiniz.</td>\n",
       "      <td>14</td>\n",
       "      <td>10</td>\n",
       "    </tr>\n",
       "    <tr>\n",
       "      <th>60239</th>\n",
       "      <td>10.0</td>\n",
       "      <td>10.0</td>\n",
       "      <td>10.0</td>\n",
       "      <td>Çorbası efsane mutlaka deneyin.</td>\n",
       "      <td>31</td>\n",
       "      <td>10</td>\n",
       "    </tr>\n",
       "    <tr>\n",
       "      <th>60240</th>\n",
       "      <td>10.0</td>\n",
       "      <td>10.0</td>\n",
       "      <td>10.0</td>\n",
       "      <td>Harikasınız!</td>\n",
       "      <td>12</td>\n",
       "      <td>10</td>\n",
       "    </tr>\n",
       "    <tr>\n",
       "      <th>60241</th>\n",
       "      <td>9.0</td>\n",
       "      <td>9.0</td>\n",
       "      <td>9.0</td>\n",
       "      <td>Spagetti çok yağlı buldum ama sıcaktı.</td>\n",
       "      <td>38</td>\n",
       "      <td>9</td>\n",
       "    </tr>\n",
       "  </tbody>\n",
       "</table>\n",
       "<p>60206 rows × 6 columns</p>\n",
       "</div>"
      ],
      "text/plain": [
       "       speed  service  flavour  \\\n",
       "0        NaN      1.0      1.0   \n",
       "1        NaN     10.0      2.0   \n",
       "2        NaN     10.0     10.0   \n",
       "3        1.0      1.0      7.0   \n",
       "4        4.0      4.0      1.0   \n",
       "...      ...      ...      ...   \n",
       "60237   10.0     10.0     10.0   \n",
       "60238   10.0     10.0     10.0   \n",
       "60239   10.0     10.0     10.0   \n",
       "60240   10.0     10.0     10.0   \n",
       "60241    9.0      9.0      9.0   \n",
       "\n",
       "                                                  review  Character Count  \\\n",
       "0      Her zaman komşu fırından sipariş verdiğim için...              202   \n",
       "1       sosisli ürün isteyen adama peynirli bişey yol...              135   \n",
       "2      Siparisimi cok hizli getiren ekip arkadasiniza...               63   \n",
       "3      After waiting more tjan one hour, they didnt d...               85   \n",
       "4      Iyi pişsin diye söylememe rağmen az pişmiş gel...               73   \n",
       "...                                                  ...              ...   \n",
       "60237                                             Super.                6   \n",
       "60238                                     Mükemmelsiniz.               14   \n",
       "60239                    Çorbası efsane mutlaka deneyin.               31   \n",
       "60240                                       Harikasınız!               12   \n",
       "60241             Spagetti çok yağlı buldum ama sıcaktı.               38   \n",
       "\n",
       "       target  \n",
       "0           1  \n",
       "1           6  \n",
       "2          10  \n",
       "3           3  \n",
       "4           3  \n",
       "...       ...  \n",
       "60237      10  \n",
       "60238      10  \n",
       "60239      10  \n",
       "60240      10  \n",
       "60241       9  \n",
       "\n",
       "[60206 rows x 6 columns]"
      ]
     },
     "execution_count": 12,
     "metadata": {},
     "output_type": "execute_result"
    }
   ],
   "source": [
    "df"
   ]
  },
  {
   "cell_type": "markdown",
   "id": "7177a3f1",
   "metadata": {
    "papermill": {
     "duration": 0.065404,
     "end_time": "2021-12-15T11:41:15.828723",
     "exception": false,
     "start_time": "2021-12-15T11:41:15.763319",
     "status": "completed"
    },
    "tags": []
   },
   "source": [
    "### Converting the target to binary depending on mean of 3 types of point"
   ]
  },
  {
   "cell_type": "code",
   "execution_count": 13,
   "id": "509debe9",
   "metadata": {
    "_uuid": "14074b59106cb9550440839e48b832223fc9502f",
    "execution": {
     "iopub.execute_input": "2021-12-15T11:41:15.973781Z",
     "iopub.status.busy": "2021-12-15T11:41:15.972892Z",
     "iopub.status.idle": "2021-12-15T11:41:15.974909Z",
     "shell.execute_reply": "2021-12-15T11:41:15.975360Z",
     "shell.execute_reply.started": "2021-12-15T10:53:11.422150Z"
    },
    "papermill": {
     "duration": 0.081104,
     "end_time": "2021-12-15T11:41:15.975501",
     "exception": false,
     "start_time": "2021-12-15T11:41:15.894397",
     "status": "completed"
    },
    "tags": []
   },
   "outputs": [],
   "source": [
    "decode_map = { 1:\"NEGATIVE\", 2:\"NEGATIVE\" ,3: \"NEGATIVE\", 4:\"NEGATIVE\", 5:\"NEGATIVE\",6: \"POSITIVE\",\n",
    "              7: \"POSITIVE\", 8: \"POSITIVE\", 9: \"POSITIVE\", 10: \"POSITIVE\"}\n",
    "def decode_sentiment(label):\n",
    "    return decode_map[int(label)]"
   ]
  },
  {
   "cell_type": "code",
   "execution_count": 14,
   "id": "ea0771db",
   "metadata": {
    "_uuid": "4449d473187f647a195a6ac6986b009da32a7f4b",
    "execution": {
     "iopub.execute_input": "2021-12-15T11:41:16.117405Z",
     "iopub.status.busy": "2021-12-15T11:41:16.116821Z",
     "iopub.status.idle": "2021-12-15T11:41:16.144170Z",
     "shell.execute_reply": "2021-12-15T11:41:16.144844Z",
     "shell.execute_reply.started": "2021-12-15T10:53:11.432891Z"
    },
    "papermill": {
     "duration": 0.101469,
     "end_time": "2021-12-15T11:41:16.144981",
     "exception": false,
     "start_time": "2021-12-15T11:41:16.043512",
     "status": "completed"
    },
    "tags": []
   },
   "outputs": [
    {
     "name": "stdout",
     "output_type": "stream",
     "text": [
      "CPU times: user 24.8 ms, sys: 0 ns, total: 24.8 ms\n",
      "Wall time: 25.6 ms\n"
     ]
    }
   ],
   "source": [
    "%%time\n",
    "df.target = df.target.apply(lambda x: decode_sentiment(x))"
   ]
  },
  {
   "cell_type": "code",
   "execution_count": 15,
   "id": "e499d68f",
   "metadata": {
    "execution": {
     "iopub.execute_input": "2021-12-15T11:41:16.287909Z",
     "iopub.status.busy": "2021-12-15T11:41:16.287099Z",
     "iopub.status.idle": "2021-12-15T11:41:16.295588Z",
     "shell.execute_reply": "2021-12-15T11:41:16.296028Z",
     "shell.execute_reply.started": "2021-12-15T10:53:11.475503Z"
    },
    "papermill": {
     "duration": 0.085545,
     "end_time": "2021-12-15T11:41:16.296156",
     "exception": false,
     "start_time": "2021-12-15T11:41:16.210611",
     "status": "completed"
    },
    "tags": []
   },
   "outputs": [
    {
     "data": {
      "text/html": [
       "<div>\n",
       "<style scoped>\n",
       "    .dataframe tbody tr th:only-of-type {\n",
       "        vertical-align: middle;\n",
       "    }\n",
       "\n",
       "    .dataframe tbody tr th {\n",
       "        vertical-align: top;\n",
       "    }\n",
       "\n",
       "    .dataframe thead th {\n",
       "        text-align: right;\n",
       "    }\n",
       "</style>\n",
       "<table border=\"1\" class=\"dataframe\">\n",
       "  <thead>\n",
       "    <tr style=\"text-align: right;\">\n",
       "      <th></th>\n",
       "      <th>speed</th>\n",
       "      <th>service</th>\n",
       "      <th>flavour</th>\n",
       "      <th>review</th>\n",
       "      <th>Character Count</th>\n",
       "      <th>target</th>\n",
       "    </tr>\n",
       "  </thead>\n",
       "  <tbody>\n",
       "    <tr>\n",
       "      <th>0</th>\n",
       "      <td>NaN</td>\n",
       "      <td>1.0</td>\n",
       "      <td>1.0</td>\n",
       "      <td>Her zaman komşu fırından sipariş verdiğim için...</td>\n",
       "      <td>202</td>\n",
       "      <td>NEGATIVE</td>\n",
       "    </tr>\n",
       "    <tr>\n",
       "      <th>1</th>\n",
       "      <td>NaN</td>\n",
       "      <td>10.0</td>\n",
       "      <td>2.0</td>\n",
       "      <td>sosisli ürün isteyen adama peynirli bişey yol...</td>\n",
       "      <td>135</td>\n",
       "      <td>POSITIVE</td>\n",
       "    </tr>\n",
       "    <tr>\n",
       "      <th>2</th>\n",
       "      <td>NaN</td>\n",
       "      <td>10.0</td>\n",
       "      <td>10.0</td>\n",
       "      <td>Siparisimi cok hizli getiren ekip arkadasiniza...</td>\n",
       "      <td>63</td>\n",
       "      <td>POSITIVE</td>\n",
       "    </tr>\n",
       "    <tr>\n",
       "      <th>3</th>\n",
       "      <td>1.0</td>\n",
       "      <td>1.0</td>\n",
       "      <td>7.0</td>\n",
       "      <td>After waiting more tjan one hour, they didnt d...</td>\n",
       "      <td>85</td>\n",
       "      <td>NEGATIVE</td>\n",
       "    </tr>\n",
       "    <tr>\n",
       "      <th>4</th>\n",
       "      <td>4.0</td>\n",
       "      <td>4.0</td>\n",
       "      <td>1.0</td>\n",
       "      <td>Iyi pişsin diye söylememe rağmen az pişmiş gel...</td>\n",
       "      <td>73</td>\n",
       "      <td>NEGATIVE</td>\n",
       "    </tr>\n",
       "    <tr>\n",
       "      <th>...</th>\n",
       "      <td>...</td>\n",
       "      <td>...</td>\n",
       "      <td>...</td>\n",
       "      <td>...</td>\n",
       "      <td>...</td>\n",
       "      <td>...</td>\n",
       "    </tr>\n",
       "    <tr>\n",
       "      <th>60237</th>\n",
       "      <td>10.0</td>\n",
       "      <td>10.0</td>\n",
       "      <td>10.0</td>\n",
       "      <td>Super.</td>\n",
       "      <td>6</td>\n",
       "      <td>POSITIVE</td>\n",
       "    </tr>\n",
       "    <tr>\n",
       "      <th>60238</th>\n",
       "      <td>10.0</td>\n",
       "      <td>10.0</td>\n",
       "      <td>10.0</td>\n",
       "      <td>Mükemmelsiniz.</td>\n",
       "      <td>14</td>\n",
       "      <td>POSITIVE</td>\n",
       "    </tr>\n",
       "    <tr>\n",
       "      <th>60239</th>\n",
       "      <td>10.0</td>\n",
       "      <td>10.0</td>\n",
       "      <td>10.0</td>\n",
       "      <td>Çorbası efsane mutlaka deneyin.</td>\n",
       "      <td>31</td>\n",
       "      <td>POSITIVE</td>\n",
       "    </tr>\n",
       "    <tr>\n",
       "      <th>60240</th>\n",
       "      <td>10.0</td>\n",
       "      <td>10.0</td>\n",
       "      <td>10.0</td>\n",
       "      <td>Harikasınız!</td>\n",
       "      <td>12</td>\n",
       "      <td>POSITIVE</td>\n",
       "    </tr>\n",
       "    <tr>\n",
       "      <th>60241</th>\n",
       "      <td>9.0</td>\n",
       "      <td>9.0</td>\n",
       "      <td>9.0</td>\n",
       "      <td>Spagetti çok yağlı buldum ama sıcaktı.</td>\n",
       "      <td>38</td>\n",
       "      <td>POSITIVE</td>\n",
       "    </tr>\n",
       "  </tbody>\n",
       "</table>\n",
       "<p>60206 rows × 6 columns</p>\n",
       "</div>"
      ],
      "text/plain": [
       "       speed  service  flavour  \\\n",
       "0        NaN      1.0      1.0   \n",
       "1        NaN     10.0      2.0   \n",
       "2        NaN     10.0     10.0   \n",
       "3        1.0      1.0      7.0   \n",
       "4        4.0      4.0      1.0   \n",
       "...      ...      ...      ...   \n",
       "60237   10.0     10.0     10.0   \n",
       "60238   10.0     10.0     10.0   \n",
       "60239   10.0     10.0     10.0   \n",
       "60240   10.0     10.0     10.0   \n",
       "60241    9.0      9.0      9.0   \n",
       "\n",
       "                                                  review  Character Count  \\\n",
       "0      Her zaman komşu fırından sipariş verdiğim için...              202   \n",
       "1       sosisli ürün isteyen adama peynirli bişey yol...              135   \n",
       "2      Siparisimi cok hizli getiren ekip arkadasiniza...               63   \n",
       "3      After waiting more tjan one hour, they didnt d...               85   \n",
       "4      Iyi pişsin diye söylememe rağmen az pişmiş gel...               73   \n",
       "...                                                  ...              ...   \n",
       "60237                                             Super.                6   \n",
       "60238                                     Mükemmelsiniz.               14   \n",
       "60239                    Çorbası efsane mutlaka deneyin.               31   \n",
       "60240                                       Harikasınız!               12   \n",
       "60241             Spagetti çok yağlı buldum ama sıcaktı.               38   \n",
       "\n",
       "         target  \n",
       "0      NEGATIVE  \n",
       "1      POSITIVE  \n",
       "2      POSITIVE  \n",
       "3      NEGATIVE  \n",
       "4      NEGATIVE  \n",
       "...         ...  \n",
       "60237  POSITIVE  \n",
       "60238  POSITIVE  \n",
       "60239  POSITIVE  \n",
       "60240  POSITIVE  \n",
       "60241  POSITIVE  \n",
       "\n",
       "[60206 rows x 6 columns]"
      ]
     },
     "execution_count": 15,
     "metadata": {},
     "output_type": "execute_result"
    }
   ],
   "source": [
    "df"
   ]
  },
  {
   "cell_type": "code",
   "execution_count": 16,
   "id": "ad818072",
   "metadata": {
    "_uuid": "19eb327803192f31cce3512aacb232f4d6b38715",
    "execution": {
     "iopub.execute_input": "2021-12-15T11:41:16.449641Z",
     "iopub.status.busy": "2021-12-15T11:41:16.448840Z",
     "iopub.status.idle": "2021-12-15T11:41:16.640328Z",
     "shell.execute_reply": "2021-12-15T11:41:16.640698Z",
     "shell.execute_reply.started": "2021-12-15T10:53:11.500525Z"
    },
    "papermill": {
     "duration": 0.275653,
     "end_time": "2021-12-15T11:41:16.640869",
     "exception": false,
     "start_time": "2021-12-15T11:41:16.365216",
     "status": "completed"
    },
    "tags": []
   },
   "outputs": [
    {
     "data": {
      "text/plain": [
       "Text(0.5, 1.0, 'Dataset labels distribuition')"
      ]
     },
     "execution_count": 16,
     "metadata": {},
     "output_type": "execute_result"
    },
    {
     "data": {
      "image/png": "[encoded data removed]",
      "text/plain": [
       "<Figure size 1152x576 with 1 Axes>"
      ]
     },
     "metadata": {
      "needs_background": "light"
     },
     "output_type": "display_data"
    }
   ],
   "source": [
    "target_cnt = Counter(df.target)\n",
    "\n",
    "plt.figure(figsize=(16,8))\n",
    "plt.bar(target_cnt.keys(), target_cnt.values())\n",
    "plt.title(\"Dataset labels distribuition\")"
   ]
  },
  {
   "cell_type": "code",
   "execution_count": 17,
   "id": "6eda37c6",
   "metadata": {
    "_uuid": "8aeee8b7b9ea11b749c7f91cd4787a7b50ed1a91",
    "execution": {
     "iopub.execute_input": "2021-12-15T11:41:16.780342Z",
     "iopub.status.busy": "2021-12-15T11:41:16.779831Z",
     "iopub.status.idle": "2021-12-15T11:41:16.785396Z",
     "shell.execute_reply": "2021-12-15T11:41:16.784543Z",
     "shell.execute_reply.started": "2021-12-15T10:53:11.734818Z"
    },
    "papermill": {
     "duration": 0.076835,
     "end_time": "2021-12-15T11:41:16.785514",
     "exception": false,
     "start_time": "2021-12-15T11:41:16.708679",
     "status": "completed"
    },
    "tags": []
   },
   "outputs": [],
   "source": [
    "stop_words = stopwords.words(\"turkish\")"
   ]
  },
  {
   "cell_type": "code",
   "execution_count": 18,
   "id": "a43459a4",
   "metadata": {
    "_uuid": "649ebcb97969b9ac4301138783704bb3d7846a49",
    "execution": {
     "iopub.execute_input": "2021-12-15T11:41:16.926071Z",
     "iopub.status.busy": "2021-12-15T11:41:16.925363Z",
     "iopub.status.idle": "2021-12-15T11:41:16.927897Z",
     "shell.execute_reply": "2021-12-15T11:41:16.927441Z",
     "shell.execute_reply.started": "2021-12-15T10:53:11.746505Z"
    },
    "papermill": {
     "duration": 0.075331,
     "end_time": "2021-12-15T11:41:16.928014",
     "exception": false,
     "start_time": "2021-12-15T11:41:16.852683",
     "status": "completed"
    },
    "tags": []
   },
   "outputs": [],
   "source": [
    "def preprocess(text, stem=False):\n",
    "    # Remove link,user and special characters\n",
    "    text = re.sub(TEXT_CLEANING_RE, ' ', str(text).lower()).strip()\n",
    "    tokens = []\n",
    "    for token in text.split():\n",
    "        if token not in stop_words:\n",
    "            if stem:\n",
    "                tokens.append(stemmer.stem(token))\n",
    "            else:\n",
    "                tokens.append(token)\n",
    "    return \" \".join(tokens)"
   ]
  },
  {
   "cell_type": "code",
   "execution_count": 19,
   "id": "4ca73301",
   "metadata": {
    "_uuid": "f7f3e77ab9291d14687c49e71ba9b2b1e3323432",
    "execution": {
     "iopub.execute_input": "2021-12-15T11:41:17.068511Z",
     "iopub.status.busy": "2021-12-15T11:41:17.067750Z",
     "iopub.status.idle": "2021-12-15T11:41:18.340854Z",
     "shell.execute_reply": "2021-12-15T11:41:18.340167Z",
     "shell.execute_reply.started": "2021-12-15T10:53:11.757907Z"
    },
    "papermill": {
     "duration": 1.345961,
     "end_time": "2021-12-15T11:41:18.341023",
     "exception": false,
     "start_time": "2021-12-15T11:41:16.995062",
     "status": "completed"
    },
    "tags": []
   },
   "outputs": [
    {
     "name": "stdout",
     "output_type": "stream",
     "text": [
      "CPU times: user 1.26 s, sys: 4.9 ms, total: 1.27 s\n",
      "Wall time: 1.27 s\n"
     ]
    }
   ],
   "source": [
    "%%time\n",
    "df.review = df.review.apply(lambda x: preprocess(x))"
   ]
  },
  {
   "cell_type": "code",
   "execution_count": 20,
   "id": "55387b83",
   "metadata": {
    "execution": {
     "iopub.execute_input": "2021-12-15T11:41:18.498352Z",
     "iopub.status.busy": "2021-12-15T11:41:18.492396Z",
     "iopub.status.idle": "2021-12-15T11:41:18.502015Z",
     "shell.execute_reply": "2021-12-15T11:41:18.502498Z",
     "shell.execute_reply.started": "2021-12-15T10:53:13.175017Z"
    },
    "papermill": {
     "duration": 0.090641,
     "end_time": "2021-12-15T11:41:18.502645",
     "exception": false,
     "start_time": "2021-12-15T11:41:18.412004",
     "status": "completed"
    },
    "tags": []
   },
   "outputs": [
    {
     "data": {
      "text/html": [
       "<div>\n",
       "<style scoped>\n",
       "    .dataframe tbody tr th:only-of-type {\n",
       "        vertical-align: middle;\n",
       "    }\n",
       "\n",
       "    .dataframe tbody tr th {\n",
       "        vertical-align: top;\n",
       "    }\n",
       "\n",
       "    .dataframe thead th {\n",
       "        text-align: right;\n",
       "    }\n",
       "</style>\n",
       "<table border=\"1\" class=\"dataframe\">\n",
       "  <thead>\n",
       "    <tr style=\"text-align: right;\">\n",
       "      <th></th>\n",
       "      <th>speed</th>\n",
       "      <th>service</th>\n",
       "      <th>flavour</th>\n",
       "      <th>review</th>\n",
       "      <th>Character Count</th>\n",
       "      <th>target</th>\n",
       "    </tr>\n",
       "  </thead>\n",
       "  <tbody>\n",
       "    <tr>\n",
       "      <th>0</th>\n",
       "      <td>NaN</td>\n",
       "      <td>1.0</td>\n",
       "      <td>1.0</td>\n",
       "      <td>zaman komşu fırından sipariş verdiğim eksik gö...</td>\n",
       "      <td>202</td>\n",
       "      <td>NEGATIVE</td>\n",
       "    </tr>\n",
       "    <tr>\n",
       "      <th>1</th>\n",
       "      <td>NaN</td>\n",
       "      <td>10.0</td>\n",
       "      <td>2.0</td>\n",
       "      <td>sosisli ürün isteyen adama peynirli bişey yoll...</td>\n",
       "      <td>135</td>\n",
       "      <td>POSITIVE</td>\n",
       "    </tr>\n",
       "    <tr>\n",
       "      <th>2</th>\n",
       "      <td>NaN</td>\n",
       "      <td>10.0</td>\n",
       "      <td>10.0</td>\n",
       "      <td>siparisimi cok hizli getiren ekip arkadasiniza...</td>\n",
       "      <td>63</td>\n",
       "      <td>POSITIVE</td>\n",
       "    </tr>\n",
       "    <tr>\n",
       "      <th>3</th>\n",
       "      <td>1.0</td>\n",
       "      <td>1.0</td>\n",
       "      <td>7.0</td>\n",
       "      <td>after waiting more tjan one hour they didnt de...</td>\n",
       "      <td>85</td>\n",
       "      <td>NEGATIVE</td>\n",
       "    </tr>\n",
       "    <tr>\n",
       "      <th>4</th>\n",
       "      <td>4.0</td>\n",
       "      <td>4.0</td>\n",
       "      <td>1.0</td>\n",
       "      <td>iyi pişsin söylememe rağmen pişmiş geldi birda...</td>\n",
       "      <td>73</td>\n",
       "      <td>NEGATIVE</td>\n",
       "    </tr>\n",
       "    <tr>\n",
       "      <th>...</th>\n",
       "      <td>...</td>\n",
       "      <td>...</td>\n",
       "      <td>...</td>\n",
       "      <td>...</td>\n",
       "      <td>...</td>\n",
       "      <td>...</td>\n",
       "    </tr>\n",
       "    <tr>\n",
       "      <th>60237</th>\n",
       "      <td>10.0</td>\n",
       "      <td>10.0</td>\n",
       "      <td>10.0</td>\n",
       "      <td>super</td>\n",
       "      <td>6</td>\n",
       "      <td>POSITIVE</td>\n",
       "    </tr>\n",
       "    <tr>\n",
       "      <th>60238</th>\n",
       "      <td>10.0</td>\n",
       "      <td>10.0</td>\n",
       "      <td>10.0</td>\n",
       "      <td>mükemmelsiniz</td>\n",
       "      <td>14</td>\n",
       "      <td>POSITIVE</td>\n",
       "    </tr>\n",
       "    <tr>\n",
       "      <th>60239</th>\n",
       "      <td>10.0</td>\n",
       "      <td>10.0</td>\n",
       "      <td>10.0</td>\n",
       "      <td>çorbası efsane mutlaka deneyin</td>\n",
       "      <td>31</td>\n",
       "      <td>POSITIVE</td>\n",
       "    </tr>\n",
       "    <tr>\n",
       "      <th>60240</th>\n",
       "      <td>10.0</td>\n",
       "      <td>10.0</td>\n",
       "      <td>10.0</td>\n",
       "      <td>harikasınız</td>\n",
       "      <td>12</td>\n",
       "      <td>POSITIVE</td>\n",
       "    </tr>\n",
       "    <tr>\n",
       "      <th>60241</th>\n",
       "      <td>9.0</td>\n",
       "      <td>9.0</td>\n",
       "      <td>9.0</td>\n",
       "      <td>spagetti yağlı buldum sıcaktı</td>\n",
       "      <td>38</td>\n",
       "      <td>POSITIVE</td>\n",
       "    </tr>\n",
       "  </tbody>\n",
       "</table>\n",
       "<p>60206 rows × 6 columns</p>\n",
       "</div>"
      ],
      "text/plain": [
       "       speed  service  flavour  \\\n",
       "0        NaN      1.0      1.0   \n",
       "1        NaN     10.0      2.0   \n",
       "2        NaN     10.0     10.0   \n",
       "3        1.0      1.0      7.0   \n",
       "4        4.0      4.0      1.0   \n",
       "...      ...      ...      ...   \n",
       "60237   10.0     10.0     10.0   \n",
       "60238   10.0     10.0     10.0   \n",
       "60239   10.0     10.0     10.0   \n",
       "60240   10.0     10.0     10.0   \n",
       "60241    9.0      9.0      9.0   \n",
       "\n",
       "                                                  review  Character Count  \\\n",
       "0      zaman komşu fırından sipariş verdiğim eksik gö...              202   \n",
       "1      sosisli ürün isteyen adama peynirli bişey yoll...              135   \n",
       "2      siparisimi cok hizli getiren ekip arkadasiniza...               63   \n",
       "3      after waiting more tjan one hour they didnt de...               85   \n",
       "4      iyi pişsin söylememe rağmen pişmiş geldi birda...               73   \n",
       "...                                                  ...              ...   \n",
       "60237                                              super                6   \n",
       "60238                                      mükemmelsiniz               14   \n",
       "60239                     çorbası efsane mutlaka deneyin               31   \n",
       "60240                                        harikasınız               12   \n",
       "60241                      spagetti yağlı buldum sıcaktı               38   \n",
       "\n",
       "         target  \n",
       "0      NEGATIVE  \n",
       "1      POSITIVE  \n",
       "2      POSITIVE  \n",
       "3      NEGATIVE  \n",
       "4      NEGATIVE  \n",
       "...         ...  \n",
       "60237  POSITIVE  \n",
       "60238  POSITIVE  \n",
       "60239  POSITIVE  \n",
       "60240  POSITIVE  \n",
       "60241  POSITIVE  \n",
       "\n",
       "[60206 rows x 6 columns]"
      ]
     },
     "execution_count": 20,
     "metadata": {},
     "output_type": "execute_result"
    }
   ],
   "source": [
    "df"
   ]
  },
  {
   "cell_type": "markdown",
   "id": "c72c1f9a",
   "metadata": {
    "_uuid": "f5f9714a8507409bbe780eebf2855a33e8e6ba37",
    "papermill": {
     "duration": 0.068582,
     "end_time": "2021-12-15T11:41:18.644699",
     "exception": false,
     "start_time": "2021-12-15T11:41:18.576117",
     "status": "completed"
    },
    "tags": []
   },
   "source": [
    "### Split train and test"
   ]
  },
  {
   "cell_type": "code",
   "execution_count": 21,
   "id": "f3fc565d",
   "metadata": {
    "_uuid": "d2b1179c968e3f3910c790ecf0c5b2cbb34b0e68",
    "execution": {
     "iopub.execute_input": "2021-12-15T11:41:18.797123Z",
     "iopub.status.busy": "2021-12-15T11:41:18.794669Z",
     "iopub.status.idle": "2021-12-15T11:41:18.807210Z",
     "shell.execute_reply": "2021-12-15T11:41:18.807807Z",
     "shell.execute_reply.started": "2021-12-15T10:53:13.201077Z"
    },
    "papermill": {
     "duration": 0.088787,
     "end_time": "2021-12-15T11:41:18.807997",
     "exception": false,
     "start_time": "2021-12-15T11:41:18.719210",
     "status": "completed"
    },
    "tags": []
   },
   "outputs": [
    {
     "name": "stdout",
     "output_type": "stream",
     "text": [
      "TRAIN size: 54185\n",
      "TEST size: 6021\n"
     ]
    }
   ],
   "source": [
    "df_train, df_test = train_test_split(df, test_size=TEST_SIZE, random_state=42)\n",
    "print(\"TRAIN size:\", len(df_train))\n",
    "print(\"TEST size:\", len(df_test))"
   ]
  },
  {
   "cell_type": "markdown",
   "id": "3d59b5d1",
   "metadata": {
    "_uuid": "f08a28aab2c3d16d8b9681a7d5d07587153a1cd6",
    "papermill": {
     "duration": 0.067974,
     "end_time": "2021-12-15T11:41:18.946441",
     "exception": false,
     "start_time": "2021-12-15T11:41:18.878467",
     "status": "completed"
    },
    "tags": []
   },
   "source": [
    "### Word2Vec "
   ]
  },
  {
   "cell_type": "code",
   "execution_count": 22,
   "id": "bbf94cc8",
   "metadata": {
    "_uuid": "2461bf564de1b4414841933d0c1d1bee5f5cc5a6",
    "execution": {
     "iopub.execute_input": "2021-12-15T11:41:19.105104Z",
     "iopub.status.busy": "2021-12-15T11:41:19.104202Z",
     "iopub.status.idle": "2021-12-15T11:41:19.413574Z",
     "shell.execute_reply": "2021-12-15T11:41:19.414099Z",
     "shell.execute_reply.started": "2021-12-15T10:53:13.233485Z"
    },
    "papermill": {
     "duration": 0.396567,
     "end_time": "2021-12-15T11:41:19.414275",
     "exception": false,
     "start_time": "2021-12-15T11:41:19.017708",
     "status": "completed"
    },
    "tags": []
   },
   "outputs": [
    {
     "name": "stdout",
     "output_type": "stream",
     "text": [
      "CPU times: user 272 ms, sys: 39 ms, total: 311 ms\n",
      "Wall time: 311 ms\n"
     ]
    }
   ],
   "source": [
    "%%time\n",
    "documents = [_text.split() for _text in df_train.review] "
   ]
  },
  {
   "cell_type": "code",
   "execution_count": 23,
   "id": "12133103",
   "metadata": {
    "_uuid": "8e19b9f25801ba86420decc266d2b3e6fb44f1ea",
    "execution": {
     "iopub.execute_input": "2021-12-15T11:41:19.565853Z",
     "iopub.status.busy": "2021-12-15T11:41:19.565041Z",
     "iopub.status.idle": "2021-12-15T11:41:19.567024Z",
     "shell.execute_reply": "2021-12-15T11:41:19.567433Z",
     "shell.execute_reply.started": "2021-12-15T10:53:13.702435Z"
    },
    "papermill": {
     "duration": 0.079116,
     "end_time": "2021-12-15T11:41:19.567562",
     "exception": false,
     "start_time": "2021-12-15T11:41:19.488446",
     "status": "completed"
    },
    "tags": []
   },
   "outputs": [],
   "source": [
    "w2v_model = gensim.models.word2vec.Word2Vec(vector_size=W2V_SIZE, \n",
    "                                            window=W2V_WINDOW, \n",
    "                                            min_count=W2V_MIN_COUNT, \n",
    "                                            workers=8)"
   ]
  },
  {
   "cell_type": "code",
   "execution_count": 24,
   "id": "d92b910f",
   "metadata": {
    "_uuid": "58d655af07653c594bec6bebcfb302a973b0ad9c",
    "execution": {
     "iopub.execute_input": "2021-12-15T11:41:19.711651Z",
     "iopub.status.busy": "2021-12-15T11:41:19.710866Z",
     "iopub.status.idle": "2021-12-15T11:41:20.011377Z",
     "shell.execute_reply": "2021-12-15T11:41:20.010876Z",
     "shell.execute_reply.started": "2021-12-15T10:53:13.714406Z"
    },
    "papermill": {
     "duration": 0.373652,
     "end_time": "2021-12-15T11:41:20.011523",
     "exception": false,
     "start_time": "2021-12-15T11:41:19.637871",
     "status": "completed"
    },
    "tags": []
   },
   "outputs": [],
   "source": [
    "w2v_model.build_vocab(documents)"
   ]
  },
  {
   "cell_type": "code",
   "execution_count": 25,
   "id": "16ba5c36",
   "metadata": {
    "_uuid": "72a5628ca81fd4b8983c12d93ae0bf950b86b6ae",
    "execution": {
     "iopub.execute_input": "2021-12-15T11:41:20.159243Z",
     "iopub.status.busy": "2021-12-15T11:41:20.158491Z",
     "iopub.status.idle": "2021-12-15T11:41:20.161633Z",
     "shell.execute_reply": "2021-12-15T11:41:20.162247Z",
     "shell.execute_reply.started": "2021-12-15T10:53:14.109967Z"
    },
    "papermill": {
     "duration": 0.078935,
     "end_time": "2021-12-15T11:41:20.162442",
     "exception": false,
     "start_time": "2021-12-15T11:41:20.083507",
     "status": "completed"
    },
    "tags": []
   },
   "outputs": [
    {
     "name": "stdout",
     "output_type": "stream",
     "text": [
      "Vocab size 4775\n"
     ]
    }
   ],
   "source": [
    "vocab_len = len(w2v_model.wv)\n",
    "print(\"Vocab size\", vocab_len)"
   ]
  },
  {
   "cell_type": "code",
   "execution_count": 26,
   "id": "007e22e5",
   "metadata": {
    "_uuid": "68c3e4a5ba07cac3dee67f78ecdd1404c7f83f14",
    "execution": {
     "iopub.execute_input": "2021-12-15T11:41:20.307963Z",
     "iopub.status.busy": "2021-12-15T11:41:20.307209Z",
     "iopub.status.idle": "2021-12-15T11:41:35.840683Z",
     "shell.execute_reply": "2021-12-15T11:41:35.840224Z",
     "shell.execute_reply.started": "2021-12-15T10:53:14.118560Z"
    },
    "papermill": {
     "duration": 15.607427,
     "end_time": "2021-12-15T11:41:35.840843",
     "exception": false,
     "start_time": "2021-12-15T11:41:20.233416",
     "status": "completed"
    },
    "tags": []
   },
   "outputs": [
    {
     "name": "stdout",
     "output_type": "stream",
     "text": [
      "CPU times: user 26.5 s, sys: 241 ms, total: 26.7 s\n",
      "Wall time: 15.5 s\n"
     ]
    },
    {
     "data": {
      "text/plain": [
       "(5895731, 8096368)"
      ]
     },
     "execution_count": 26,
     "metadata": {},
     "output_type": "execute_result"
    }
   ],
   "source": [
    "%%time\n",
    "w2v_model.train(documents, total_examples=len(documents), epochs=16)"
   ]
  },
  {
   "cell_type": "code",
   "execution_count": 27,
   "id": "b0e009e9",
   "metadata": {
    "_uuid": "27cc2651c74227115d8bfd8c40e5618048e05edd",
    "execution": {
     "iopub.execute_input": "2021-12-15T11:41:35.984949Z",
     "iopub.status.busy": "2021-12-15T11:41:35.983930Z",
     "iopub.status.idle": "2021-12-15T11:41:35.994102Z",
     "shell.execute_reply": "2021-12-15T11:41:35.994775Z",
     "shell.execute_reply.started": "2021-12-15T10:53:32.238708Z"
    },
    "papermill": {
     "duration": 0.084421,
     "end_time": "2021-12-15T11:41:35.994992",
     "exception": false,
     "start_time": "2021-12-15T11:41:35.910571",
     "status": "completed"
    },
    "tags": []
   },
   "outputs": [
    {
     "data": {
      "text/plain": [
       "[('puding', 0.7179285287857056),\n",
       " ('hediye', 0.7071773409843445),\n",
       " ('kurabiye', 0.6553062796592712),\n",
       " ('gönderdiğiniz', 0.6487424969673157),\n",
       " ('ikramı', 0.6479936242103577),\n",
       " ('göndermeleri', 0.6440420150756836),\n",
       " ('gönderdikleri', 0.644018292427063),\n",
       " ('tatlılar', 0.6223233342170715),\n",
       " ('sürpriz', 0.6110816597938538),\n",
       " ('ikram', 0.6007757186889648)]"
      ]
     },
     "execution_count": 27,
     "metadata": {},
     "output_type": "execute_result"
    }
   ],
   "source": [
    "w2v_model.wv.most_similar(\"tatlı\")"
   ]
  },
  {
   "cell_type": "markdown",
   "id": "20a84e7b",
   "metadata": {
    "_uuid": "e13563644468037258598637b49373ca96b9b879",
    "papermill": {
     "duration": 0.071358,
     "end_time": "2021-12-15T11:41:36.195878",
     "exception": false,
     "start_time": "2021-12-15T11:41:36.124520",
     "status": "completed"
    },
    "tags": []
   },
   "source": [
    "### Tokenize Text"
   ]
  },
  {
   "cell_type": "code",
   "execution_count": 28,
   "id": "0bdf9341",
   "metadata": {
    "_uuid": "6852bc709a7cd20173cbeeb218505078f8f37c57",
    "execution": {
     "iopub.execute_input": "2021-12-15T11:41:36.378930Z",
     "iopub.status.busy": "2021-12-15T11:41:36.363511Z",
     "iopub.status.idle": "2021-12-15T11:41:37.473303Z",
     "shell.execute_reply": "2021-12-15T11:41:37.474014Z",
     "shell.execute_reply.started": "2021-12-15T10:53:32.255539Z"
    },
    "papermill": {
     "duration": 1.204626,
     "end_time": "2021-12-15T11:41:37.474172",
     "exception": false,
     "start_time": "2021-12-15T11:41:36.269546",
     "status": "completed"
    },
    "tags": []
   },
   "outputs": [
    {
     "name": "stdout",
     "output_type": "stream",
     "text": [
      "Total words 46043\n",
      "CPU times: user 1.11 s, sys: 17 ms, total: 1.13 s\n",
      "Wall time: 1.13 s\n"
     ]
    }
   ],
   "source": [
    "%%time\n",
    "tokenizer = Tokenizer()\n",
    "tokenizer.fit_on_texts(df_train.review)\n",
    "\n",
    "vocab_size = len(tokenizer.word_index) + 1\n",
    "print(\"Total words\", vocab_size)"
   ]
  },
  {
   "cell_type": "code",
   "execution_count": 29,
   "id": "534aee19",
   "metadata": {
    "_uuid": "45de439df3015030c71f84c2d170346936a1d68f",
    "execution": {
     "iopub.execute_input": "2021-12-15T11:41:37.652750Z",
     "iopub.status.busy": "2021-12-15T11:41:37.617523Z",
     "iopub.status.idle": "2021-12-15T11:41:38.997501Z",
     "shell.execute_reply": "2021-12-15T11:41:38.998110Z",
     "shell.execute_reply.started": "2021-12-15T10:53:33.674255Z"
    },
    "papermill": {
     "duration": 1.453969,
     "end_time": "2021-12-15T11:41:38.998308",
     "exception": false,
     "start_time": "2021-12-15T11:41:37.544339",
     "status": "completed"
    },
    "tags": []
   },
   "outputs": [
    {
     "name": "stdout",
     "output_type": "stream",
     "text": [
      "CPU times: user 1.35 s, sys: 21 ms, total: 1.38 s\n",
      "Wall time: 1.37 s\n"
     ]
    }
   ],
   "source": [
    "%%time\n",
    "x_train = pad_sequences(tokenizer.texts_to_sequences(df_train.review), maxlen=SEQUENCE_LENGTH)\n",
    "x_test = pad_sequences(tokenizer.texts_to_sequences(df_test.review), maxlen=SEQUENCE_LENGTH)"
   ]
  },
  {
   "cell_type": "code",
   "execution_count": 30,
   "id": "77216659",
   "metadata": {
    "execution": {
     "iopub.execute_input": "2021-12-15T11:41:39.148700Z",
     "iopub.status.busy": "2021-12-15T11:41:39.147893Z",
     "iopub.status.idle": "2021-12-15T11:41:39.153566Z",
     "shell.execute_reply": "2021-12-15T11:41:39.153156Z",
     "shell.execute_reply.started": "2021-12-15T10:53:35.350168Z"
    },
    "papermill": {
     "duration": 0.083157,
     "end_time": "2021-12-15T11:41:39.153681",
     "exception": false,
     "start_time": "2021-12-15T11:41:39.070524",
     "status": "completed"
    },
    "tags": []
   },
   "outputs": [
    {
     "data": {
      "text/plain": [
       "['POSITIVE', 'NEGATIVE']"
      ]
     },
     "execution_count": 30,
     "metadata": {},
     "output_type": "execute_result"
    }
   ],
   "source": [
    "labels = df_train.target.unique().tolist()\n",
    "labels"
   ]
  },
  {
   "cell_type": "code",
   "execution_count": 31,
   "id": "d64d7036",
   "metadata": {
    "_uuid": "04299c886911ca135583ab64878f213939a2990c",
    "execution": {
     "iopub.execute_input": "2021-12-15T11:41:39.310787Z",
     "iopub.status.busy": "2021-12-15T11:41:39.310053Z",
     "iopub.status.idle": "2021-12-15T11:41:39.346570Z",
     "shell.execute_reply": "2021-12-15T11:41:39.346000Z",
     "shell.execute_reply.started": "2021-12-15T10:53:35.365088Z"
    },
    "papermill": {
     "duration": 0.119231,
     "end_time": "2021-12-15T11:41:39.346715",
     "exception": false,
     "start_time": "2021-12-15T11:41:39.227484",
     "status": "completed"
    },
    "tags": []
   },
   "outputs": [
    {
     "name": "stdout",
     "output_type": "stream",
     "text": [
      "x_train (54185, 300)\n",
      "y_train (54185, 1)\n",
      "\n",
      "x_test (6021, 300)\n",
      "y_test (6021, 1)\n"
     ]
    }
   ],
   "source": [
    "encoder = LabelEncoder()\n",
    "encoder.fit(df_train.target.tolist())\n",
    "\n",
    "y_train = encoder.transform(df_train.target.tolist())\n",
    "y_test = encoder.transform(df_test.target.tolist())\n",
    "\n",
    "y_train = y_train.reshape(-1,1)\n",
    "y_test = y_test.reshape(-1,1)\n",
    "\n",
    "print(\"x_train\", x_train.shape)\n",
    "print(\"y_train\", y_train.shape)\n",
    "print()\n",
    "print(\"x_test\", x_test.shape)\n",
    "print(\"y_test\", y_test.shape)"
   ]
  },
  {
   "cell_type": "markdown",
   "id": "f5780ef0",
   "metadata": {
    "papermill": {
     "duration": 0.070702,
     "end_time": "2021-12-15T11:41:39.488906",
     "exception": false,
     "start_time": "2021-12-15T11:41:39.418204",
     "status": "completed"
    },
    "tags": []
   },
   "source": [
    "____________________________________"
   ]
  },
  {
   "cell_type": "markdown",
   "id": "4a7db881",
   "metadata": {
    "execution": {
     "iopub.execute_input": "2021-12-15T08:06:01.067283Z",
     "iopub.status.busy": "2021-12-15T08:06:01.066873Z",
     "iopub.status.idle": "2021-12-15T08:06:01.071151Z",
     "shell.execute_reply": "2021-12-15T08:06:01.070534Z",
     "shell.execute_reply.started": "2021-12-15T08:06:01.067253Z"
    },
    "papermill": {
     "duration": 0.070077,
     "end_time": "2021-12-15T11:41:39.629282",
     "exception": false,
     "start_time": "2021-12-15T11:41:39.559205",
     "status": "completed"
    },
    "tags": []
   },
   "source": [
    "### Imbalanced distribution handling"
   ]
  },
  {
   "cell_type": "code",
   "execution_count": 32,
   "id": "4ae661d5",
   "metadata": {
    "execution": {
     "iopub.execute_input": "2021-12-15T11:41:39.776408Z",
     "iopub.status.busy": "2021-12-15T11:41:39.775801Z",
     "iopub.status.idle": "2021-12-15T11:41:39.868507Z",
     "shell.execute_reply": "2021-12-15T11:41:39.868060Z",
     "shell.execute_reply.started": "2021-12-15T10:53:35.421365Z"
    },
    "papermill": {
     "duration": 0.168257,
     "end_time": "2021-12-15T11:41:39.868614",
     "exception": false,
     "start_time": "2021-12-15T11:41:39.700357",
     "status": "completed"
    },
    "tags": []
   },
   "outputs": [],
   "source": [
    "from imblearn.over_sampling import SMOTE\n",
    "\n",
    "def smote(x, y):\n",
    "    smote = SMOTE(sampling_strategy= 1, random_state=42)\n",
    "    x, y = smote.fit_resample(x, y)\n",
    "    return x, y"
   ]
  },
  {
   "cell_type": "code",
   "execution_count": 33,
   "id": "9c6c18bf",
   "metadata": {
    "execution": {
     "iopub.execute_input": "2021-12-15T11:41:40.021718Z",
     "iopub.status.busy": "2021-12-15T11:41:40.021130Z",
     "iopub.status.idle": "2021-12-15T11:41:40.025000Z",
     "shell.execute_reply": "2021-12-15T11:41:40.024328Z",
     "shell.execute_reply.started": "2021-12-15T10:53:35.430172Z"
    },
    "papermill": {
     "duration": 0.08281,
     "end_time": "2021-12-15T11:41:40.025154",
     "exception": false,
     "start_time": "2021-12-15T11:41:39.942344",
     "status": "completed"
    },
    "tags": []
   },
   "outputs": [
    {
     "name": "stdout",
     "output_type": "stream",
     "text": [
      "(54185, 300)\n",
      "(54185, 1)\n"
     ]
    }
   ],
   "source": [
    "print(x_train.shape)\n",
    "print(y_train.shape)"
   ]
  },
  {
   "cell_type": "code",
   "execution_count": 34,
   "id": "cd64bb8d",
   "metadata": {
    "execution": {
     "iopub.execute_input": "2021-12-15T11:41:40.175178Z",
     "iopub.status.busy": "2021-12-15T11:41:40.174392Z",
     "iopub.status.idle": "2021-12-15T11:41:40.182122Z",
     "shell.execute_reply": "2021-12-15T11:41:40.182625Z",
     "shell.execute_reply.started": "2021-12-15T10:53:35.444906Z"
    },
    "papermill": {
     "duration": 0.085371,
     "end_time": "2021-12-15T11:41:40.182793",
     "exception": false,
     "start_time": "2021-12-15T11:41:40.097422",
     "status": "completed"
    },
    "tags": []
   },
   "outputs": [
    {
     "data": {
      "text/plain": [
       "{1: 46502, 0: 7683}"
      ]
     },
     "execution_count": 34,
     "metadata": {},
     "output_type": "execute_result"
    }
   ],
   "source": [
    "# CREATING DICTIONARY TO SEE CLASS DIST\n",
    "df_c = pd.DataFrame(y_train)\n",
    "value_counts = df_c.value_counts()\n",
    "dictionary = dict()\n",
    "for (i,), j in value_counts.items():\n",
    "    dictionary[i] = j\n",
    "\n",
    "dictionary"
   ]
  },
  {
   "cell_type": "code",
   "execution_count": 35,
   "id": "0b237866",
   "metadata": {
    "execution": {
     "iopub.execute_input": "2021-12-15T11:41:40.332844Z",
     "iopub.status.busy": "2021-12-15T11:41:40.332069Z",
     "iopub.status.idle": "2021-12-15T11:41:54.973977Z",
     "shell.execute_reply": "2021-12-15T11:41:54.974679Z",
     "shell.execute_reply.started": "2021-12-15T10:53:35.461651Z"
    },
    "papermill": {
     "duration": 14.71892,
     "end_time": "2021-12-15T11:41:54.974893",
     "exception": false,
     "start_time": "2021-12-15T11:41:40.255973",
     "status": "completed"
    },
    "tags": []
   },
   "outputs": [
    {
     "name": "stdout",
     "output_type": "stream",
     "text": [
      "(93004, 300)\n",
      "(93004,)\n"
     ]
    }
   ],
   "source": [
    "x_train, y_train = smote(x_train, y_train)\n",
    "print(x_train.shape)\n",
    "print(y_train.shape)"
   ]
  },
  {
   "cell_type": "code",
   "execution_count": 36,
   "id": "65748e45",
   "metadata": {
    "execution": {
     "iopub.execute_input": "2021-12-15T11:41:55.125989Z",
     "iopub.status.busy": "2021-12-15T11:41:55.125209Z",
     "iopub.status.idle": "2021-12-15T11:41:55.133158Z",
     "shell.execute_reply": "2021-12-15T11:41:55.132703Z",
     "shell.execute_reply.started": "2021-12-15T10:53:50.940469Z"
    },
    "papermill": {
     "duration": 0.084139,
     "end_time": "2021-12-15T11:41:55.133273",
     "exception": false,
     "start_time": "2021-12-15T11:41:55.049134",
     "status": "completed"
    },
    "tags": []
   },
   "outputs": [
    {
     "data": {
      "text/plain": [
       "{0: 46502, 1: 46502}"
      ]
     },
     "execution_count": 36,
     "metadata": {},
     "output_type": "execute_result"
    }
   ],
   "source": [
    "## CONTROL THE AUGMENTED DISTRIBUTION\n",
    "df_c = pd.DataFrame(y_train)\n",
    "value_counts = df_c.value_counts()\n",
    "dictionary = dict()\n",
    "for (i,), j in value_counts.items():\n",
    "    dictionary[i] = j\n",
    "\n",
    "dictionary"
   ]
  },
  {
   "cell_type": "markdown",
   "id": "6915b47e",
   "metadata": {
    "_uuid": "233c0ea94055a03e2e7df3e2a13d036ec963484f",
    "papermill": {
     "duration": 0.072147,
     "end_time": "2021-12-15T11:41:55.278266",
     "exception": false,
     "start_time": "2021-12-15T11:41:55.206119",
     "status": "completed"
    },
    "tags": []
   },
   "source": [
    "### Embedding layer"
   ]
  },
  {
   "cell_type": "code",
   "execution_count": 37,
   "id": "cac14aed",
   "metadata": {
    "_uuid": "9ab488374b59e3f30f8b1ea92767d853c4846bac",
    "execution": {
     "iopub.execute_input": "2021-12-15T11:41:55.528608Z",
     "iopub.status.busy": "2021-12-15T11:41:55.527760Z",
     "iopub.status.idle": "2021-12-15T11:41:55.654060Z",
     "shell.execute_reply": "2021-12-15T11:41:55.655227Z",
     "shell.execute_reply.started": "2021-12-15T10:53:50.957627Z"
    },
    "papermill": {
     "duration": 0.258222,
     "end_time": "2021-12-15T11:41:55.655449",
     "exception": false,
     "start_time": "2021-12-15T11:41:55.397227",
     "status": "completed"
    },
    "tags": []
   },
   "outputs": [
    {
     "name": "stdout",
     "output_type": "stream",
     "text": [
      "(46043, 300)\n"
     ]
    }
   ],
   "source": [
    "embedding_matrix = np.zeros((vocab_size, W2V_SIZE))\n",
    "for word, i in tokenizer.word_index.items():\n",
    "    if word in w2v_model.wv:\n",
    "        embedding_matrix[i] = w2v_model.wv[word]\n",
    "print(embedding_matrix.shape)"
   ]
  },
  {
   "cell_type": "markdown",
   "id": "fe1f74b9",
   "metadata": {
    "_uuid": "b299ef78f94c2085942c993a2d58753a7476305a",
    "papermill": {
     "duration": 0.118731,
     "end_time": "2021-12-15T11:41:55.894271",
     "exception": false,
     "start_time": "2021-12-15T11:41:55.775540",
     "status": "completed"
    },
    "tags": []
   },
   "source": [
    "### Build Model"
   ]
  },
  {
   "cell_type": "code",
   "execution_count": 38,
   "id": "23ce701d",
   "metadata": {
    "_uuid": "e775ef4f1b74e6412457181383c39f2df554ef3f",
    "execution": {
     "iopub.execute_input": "2021-12-15T11:41:56.066002Z",
     "iopub.status.busy": "2021-12-15T11:41:56.065437Z",
     "iopub.status.idle": "2021-12-15T11:41:58.744692Z",
     "shell.execute_reply": "2021-12-15T11:41:58.744238Z",
     "shell.execute_reply.started": "2021-12-15T10:53:51.056229Z"
    },
    "papermill": {
     "duration": 2.75904,
     "end_time": "2021-12-15T11:41:58.744857",
     "exception": false,
     "start_time": "2021-12-15T11:41:55.985817",
     "status": "completed"
    },
    "tags": []
   },
   "outputs": [
    {
     "name": "stderr",
     "output_type": "stream",
     "text": [
      "2021-12-15 11:41:56.146109: I tensorflow/stream_executor/cuda/cuda_gpu_executor.cc:937] successful NUMA node read from SysFS had negative value (-1), but there must be at least one NUMA node, so returning NUMA node zero\n",
      "2021-12-15 11:41:56.237722: I tensorflow/stream_executor/cuda/cuda_gpu_executor.cc:937] successful NUMA node read from SysFS had negative value (-1), but there must be at least one NUMA node, so returning NUMA node zero\n",
      "2021-12-15 11:41:56.238433: I tensorflow/stream_executor/cuda/cuda_gpu_executor.cc:937] successful NUMA node read from SysFS had negative value (-1), but there must be at least one NUMA node, so returning NUMA node zero\n",
      "2021-12-15 11:41:56.240478: I tensorflow/core/platform/cpu_feature_guard.cc:142] This TensorFlow binary is optimized with oneAPI Deep Neural Network Library (oneDNN) to use the following CPU instructions in performance-critical operations:  AVX2 AVX512F FMA\n",
      "To enable them in other operations, rebuild TensorFlow with the appropriate compiler flags.\n",
      "2021-12-15 11:41:56.241475: I tensorflow/stream_executor/cuda/cuda_gpu_executor.cc:937] successful NUMA node read from SysFS had negative value (-1), but there must be at least one NUMA node, so returning NUMA node zero\n",
      "2021-12-15 11:41:56.242149: I tensorflow/stream_executor/cuda/cuda_gpu_executor.cc:937] successful NUMA node read from SysFS had negative value (-1), but there must be at least one NUMA node, so returning NUMA node zero\n",
      "2021-12-15 11:41:56.242793: I tensorflow/stream_executor/cuda/cuda_gpu_executor.cc:937] successful NUMA node read from SysFS had negative value (-1), but there must be at least one NUMA node, so returning NUMA node zero\n",
      "2021-12-15 11:41:58.039591: I tensorflow/stream_executor/cuda/cuda_gpu_executor.cc:937] successful NUMA node read from SysFS had negative value (-1), but there must be at least one NUMA node, so returning NUMA node zero\n",
      "2021-12-15 11:41:58.040453: I tensorflow/stream_executor/cuda/cuda_gpu_executor.cc:937] successful NUMA node read from SysFS had negative value (-1), but there must be at least one NUMA node, so returning NUMA node zero\n",
      "2021-12-15 11:41:58.041117: I tensorflow/stream_executor/cuda/cuda_gpu_executor.cc:937] successful NUMA node read from SysFS had negative value (-1), but there must be at least one NUMA node, so returning NUMA node zero\n",
      "2021-12-15 11:41:58.041675: I tensorflow/core/common_runtime/gpu/gpu_device.cc:1510] Created device /job:localhost/replica:0/task:0/device:GPU:0 with 15403 MB memory:  -> device: 0, name: Tesla P100-PCIE-16GB, pci bus id: 0000:00:04.0, compute capability: 6.0\n"
     ]
    },
    {
     "name": "stdout",
     "output_type": "stream",
     "text": [
      "Model: \"model\"\n",
      "_________________________________________________________________\n",
      "Layer (type)                 Output Shape              Param #   \n",
      "=================================================================\n",
      "input_1 (InputLayer)         [(None, 300)]             0         \n",
      "_________________________________________________________________\n",
      "embedding (Embedding)        (None, 300, 300)          13812900  \n",
      "_________________________________________________________________\n",
      "spatial_dropout1d (SpatialDr (None, 300, 300)          0         \n",
      "_________________________________________________________________\n",
      "conv1d (Conv1D)              (None, 296, 64)           96064     \n",
      "_________________________________________________________________\n",
      "bidirectional (Bidirectional (None, 128)               66048     \n",
      "_________________________________________________________________\n",
      "dense (Dense)                (None, 256)               33024     \n",
      "_________________________________________________________________\n",
      "dropout (Dropout)            (None, 256)               0         \n",
      "_________________________________________________________________\n",
      "dense_1 (Dense)              (None, 128)               32896     \n",
      "_________________________________________________________________\n",
      "dense_2 (Dense)              (None, 1)                 129       \n",
      "=================================================================\n",
      "Total params: 14,041,061\n",
      "Trainable params: 228,161\n",
      "Non-trainable params: 13,812,900\n",
      "_________________________________________________________________\n"
     ]
    }
   ],
   "source": [
    "embedding_layer = tf.keras.layers.Embedding(vocab_size, W2V_SIZE, weights=[embedding_matrix], \n",
    "                                            input_length=SEQUENCE_LENGTH, trainable=False)\n",
    "\n",
    "sequence_input = tf.keras.layers.Input(shape=(SEQUENCE_LENGTH,), dtype='int32')\n",
    "embedding_sequences = embedding_layer(sequence_input)\n",
    "x = tf.keras.layers.SpatialDropout1D(0.2)(embedding_sequences)\n",
    "x = tf.keras.layers.Conv1D(64, 5, activation='relu')(x)\n",
    "x = tf.keras.layers.Bidirectional(LSTM(64, dropout=0.2, recurrent_dropout=0.2))(x)\n",
    "x = tf.keras.layers.Dense(256, activation='relu')(x)\n",
    "x = tf.keras.layers.Dropout(0.3)(x)\n",
    "x = tf.keras.layers.Dense(128, activation='relu')(x)\n",
    "outputs = tf.keras.layers.Dense(1, activation='sigmoid')(x)\n",
    "model = tf.keras.Model(sequence_input, outputs)\n",
    "\n",
    "model.summary()"
   ]
  },
  {
   "cell_type": "markdown",
   "id": "365b36b5",
   "metadata": {
    "_uuid": "28d22eafd0c7d798dcf3d742bc92fb8577939e6c",
    "papermill": {
     "duration": 0.072575,
     "end_time": "2021-12-15T11:41:58.890934",
     "exception": false,
     "start_time": "2021-12-15T11:41:58.818359",
     "status": "completed"
    },
    "tags": []
   },
   "source": [
    "### Compile model"
   ]
  },
  {
   "cell_type": "code",
   "execution_count": 39,
   "id": "e27152fe",
   "metadata": {
    "_uuid": "1331e08d590bb2aa2033706c8faca217afc0f1c3",
    "execution": {
     "iopub.execute_input": "2021-12-15T11:41:59.045813Z",
     "iopub.status.busy": "2021-12-15T11:41:59.044972Z",
     "iopub.status.idle": "2021-12-15T11:41:59.051268Z",
     "shell.execute_reply": "2021-12-15T11:41:59.051667Z",
     "shell.execute_reply.started": "2021-12-15T10:53:51.496067Z"
    },
    "papermill": {
     "duration": 0.088476,
     "end_time": "2021-12-15T11:41:59.051842",
     "exception": false,
     "start_time": "2021-12-15T11:41:58.963366",
     "status": "completed"
    },
    "tags": []
   },
   "outputs": [],
   "source": [
    "model.compile(loss='binary_crossentropy',\n",
    "              optimizer=\"adam\",\n",
    "              metrics=['accuracy'])"
   ]
  },
  {
   "cell_type": "markdown",
   "id": "2c828920",
   "metadata": {
    "_uuid": "c7733127cb8b380e0c807268903bf4d03ef92542",
    "papermill": {
     "duration": 0.072961,
     "end_time": "2021-12-15T11:41:59.196965",
     "exception": false,
     "start_time": "2021-12-15T11:41:59.124004",
     "status": "completed"
    },
    "tags": []
   },
   "source": [
    "### Callbacks"
   ]
  },
  {
   "cell_type": "code",
   "execution_count": 40,
   "id": "204988b6",
   "metadata": {
    "_uuid": "a688df590386f5748da6fe00b01904fe6c71619e",
    "execution": {
     "iopub.execute_input": "2021-12-15T11:41:59.347303Z",
     "iopub.status.busy": "2021-12-15T11:41:59.346499Z",
     "iopub.status.idle": "2021-12-15T11:41:59.349284Z",
     "shell.execute_reply": "2021-12-15T11:41:59.348867Z",
     "shell.execute_reply.started": "2021-12-15T10:53:51.510222Z"
    },
    "papermill": {
     "duration": 0.079604,
     "end_time": "2021-12-15T11:41:59.349394",
     "exception": false,
     "start_time": "2021-12-15T11:41:59.269790",
     "status": "completed"
    },
    "tags": []
   },
   "outputs": [],
   "source": [
    "callbacks = [ ReduceLROnPlateau(monitor='val_loss', patience=5, cooldown=0),\n",
    "              EarlyStopping(monitor='val_acc', min_delta=1e-4, patience=5)]"
   ]
  },
  {
   "cell_type": "markdown",
   "id": "266159ec",
   "metadata": {
    "_uuid": "8d0873633dd49179c8cae17377641b97d323ef3b",
    "papermill": {
     "duration": 0.072637,
     "end_time": "2021-12-15T11:41:59.494205",
     "exception": false,
     "start_time": "2021-12-15T11:41:59.421568",
     "status": "completed"
    },
    "tags": []
   },
   "source": [
    "### Train"
   ]
  },
  {
   "cell_type": "code",
   "execution_count": 41,
   "id": "f23c9134",
   "metadata": {
    "_uuid": "2b659d390c6577dc5cdb6b6297934279b4e801d5",
    "execution": {
     "iopub.execute_input": "2021-12-15T11:41:59.646329Z",
     "iopub.status.busy": "2021-12-15T11:41:59.645380Z",
     "iopub.status.idle": "2021-12-15T12:03:26.365466Z",
     "shell.execute_reply": "2021-12-15T12:03:26.366151Z",
     "shell.execute_reply.started": "2021-12-15T10:53:51.520448Z"
    },
    "papermill": {
     "duration": 1286.799912,
     "end_time": "2021-12-15T12:03:26.366367",
     "exception": false,
     "start_time": "2021-12-15T11:41:59.566455",
     "status": "completed"
    },
    "tags": []
   },
   "outputs": [
    {
     "name": "stderr",
     "output_type": "stream",
     "text": [
      "2021-12-15 11:41:59.767244: I tensorflow/compiler/mlir/mlir_graph_optimization_pass.cc:185] None of the MLIR Optimization Passes are enabled (registered 2)\n"
     ]
    },
    {
     "name": "stdout",
     "output_type": "stream",
     "text": [
      "Epoch 1/3\n"
     ]
    },
    {
     "name": "stderr",
     "output_type": "stream",
     "text": [
      "2021-12-15 11:42:05.091682: I tensorflow/stream_executor/cuda/cuda_dnn.cc:369] Loaded cuDNN version 8005\n"
     ]
    },
    {
     "name": "stdout",
     "output_type": "stream",
     "text": [
      "164/164 [==============================] - 422s 3s/step - loss: 0.3511 - accuracy: 0.8393 - val_loss: 0.2408 - val_accuracy: 0.9019\n",
      "Epoch 2/3\n",
      "164/164 [==============================] - 416s 3s/step - loss: 0.2469 - accuracy: 0.8923 - val_loss: 0.1127 - val_accuracy: 0.9579\n",
      "Epoch 3/3\n",
      "164/164 [==============================] - 422s 3s/step - loss: 0.2236 - accuracy: 0.9025 - val_loss: 0.1449 - val_accuracy: 0.9446\n",
      "CPU times: user 32min 32s, sys: 3min 54s, total: 36min 26s\n",
      "Wall time: 21min 26s\n"
     ]
    }
   ],
   "source": [
    "%%time\n",
    "history = model.fit(x_train, y_train,\n",
    "                    batch_size=BATCH_SIZE,\n",
    "                    epochs=3,\n",
    "                    validation_split=0.1,\n",
    "                    callbacks=callbacks)"
   ]
  },
  {
   "cell_type": "markdown",
   "id": "77ba230e",
   "metadata": {
    "_uuid": "267258196d96796ac69a7b8c466314bcf5d6ee42",
    "papermill": {
     "duration": 0.202475,
     "end_time": "2021-12-15T12:03:26.774269",
     "exception": false,
     "start_time": "2021-12-15T12:03:26.571794",
     "status": "completed"
    },
    "tags": []
   },
   "source": [
    "### Evaluate"
   ]
  },
  {
   "cell_type": "code",
   "execution_count": 42,
   "id": "6e589f50",
   "metadata": {
    "_uuid": "98ecd8f1b8b74594c3ea775dd68a094e92458022",
    "execution": {
     "iopub.execute_input": "2021-12-15T12:03:27.188943Z",
     "iopub.status.busy": "2021-12-15T12:03:27.187985Z",
     "iopub.status.idle": "2021-12-15T12:03:30.159639Z",
     "shell.execute_reply": "2021-12-15T12:03:30.159178Z",
     "shell.execute_reply.started": "2021-12-15T11:30:02.267063Z"
    },
    "papermill": {
     "duration": 3.183974,
     "end_time": "2021-12-15T12:03:30.159776",
     "exception": false,
     "start_time": "2021-12-15T12:03:26.975802",
     "status": "completed"
    },
    "tags": []
   },
   "outputs": [
    {
     "name": "stdout",
     "output_type": "stream",
     "text": [
      "12/12 [==============================] - 2s 142ms/step - loss: 0.2577 - accuracy: 0.8829\n",
      "\n",
      "ACCURACY: 0.8829098343849182\n",
      "LOSS: 0.25767937302589417\n",
      "CPU times: user 2.14 s, sys: 12.1 ms, total: 2.15 s\n",
      "Wall time: 2.97 s\n"
     ]
    }
   ],
   "source": [
    "%%time\n",
    "score = model.evaluate(x_test, y_test, batch_size=BATCH_SIZE)\n",
    "print()\n",
    "print(\"ACCURACY:\",score[1])\n",
    "print(\"LOSS:\",score[0])"
   ]
  },
  {
   "cell_type": "code",
   "execution_count": 43,
   "id": "f5c67294",
   "metadata": {
    "_uuid": "40c72cd1e9d6c4fd799cbba7c813765ac4039dfc",
    "execution": {
     "iopub.execute_input": "2021-12-15T12:03:30.594235Z",
     "iopub.status.busy": "2021-12-15T12:03:30.593596Z",
     "iopub.status.idle": "2021-12-15T12:03:30.985457Z",
     "shell.execute_reply": "2021-12-15T12:03:30.985916Z",
     "shell.execute_reply.started": "2021-12-15T11:30:04.570471Z"
    },
    "papermill": {
     "duration": 0.617467,
     "end_time": "2021-12-15T12:03:30.986073",
     "exception": false,
     "start_time": "2021-12-15T12:03:30.368606",
     "status": "completed"
    },
    "tags": []
   },
   "outputs": [
    {
     "data": {
      "image/png": "[encoded data removed]",
      "text/plain": [
       "<Figure size 432x288 with 1 Axes>"
      ]
     },
     "metadata": {
      "needs_background": "light"
     },
     "output_type": "display_data"
    },
    {
     "data": {
      "image/png": "[encoded data removed]",
      "text/plain": [
       "<Figure size 432x288 with 1 Axes>"
      ]
     },
     "metadata": {
      "needs_background": "light"
     },
     "output_type": "display_data"
    }
   ],
   "source": [
    "acc = history.history['accuracy']\n",
    "val_acc = history.history['val_accuracy']\n",
    "loss = history.history['loss']\n",
    "val_loss = history.history['val_loss']\n",
    " \n",
    "epochs = range(len(acc))\n",
    " \n",
    "plt.plot(epochs, acc, 'b', label='Training acc')\n",
    "plt.plot(epochs, val_acc, 'r', label='Validation acc')\n",
    "plt.title('Training and validation accuracy')\n",
    "plt.legend()\n",
    " \n",
    "plt.figure()\n",
    " \n",
    "plt.plot(epochs, loss, 'b', label='Training loss')\n",
    "plt.plot(epochs, val_loss, 'r', label='Validation loss')\n",
    "plt.title('Training and validation loss')\n",
    "plt.legend()\n",
    "\n",
    "plt.show()"
   ]
  },
  {
   "cell_type": "markdown",
   "id": "2b945d15",
   "metadata": {
    "_uuid": "6bdfc0f6a6af5bebc0271d83dd7432c91001409b",
    "papermill": {
     "duration": 0.207331,
     "end_time": "2021-12-15T12:03:31.401070",
     "exception": false,
     "start_time": "2021-12-15T12:03:31.193739",
     "status": "completed"
    },
    "tags": []
   },
   "source": [
    "### Predict"
   ]
  },
  {
   "cell_type": "code",
   "execution_count": 44,
   "id": "855347a2",
   "metadata": {
    "_uuid": "f0b0fa3d4b1bb14b3f5e3d169a369f3ebef29ae1",
    "execution": {
     "iopub.execute_input": "2021-12-15T12:03:31.824681Z",
     "iopub.status.busy": "2021-12-15T12:03:31.823746Z",
     "iopub.status.idle": "2021-12-15T12:03:31.825432Z",
     "shell.execute_reply": "2021-12-15T12:03:31.825970Z",
     "shell.execute_reply.started": "2021-12-15T11:30:05.070311Z"
    },
    "papermill": {
     "duration": 0.213436,
     "end_time": "2021-12-15T12:03:31.826111",
     "exception": false,
     "start_time": "2021-12-15T12:03:31.612675",
     "status": "completed"
    },
    "tags": []
   },
   "outputs": [],
   "source": [
    "def decode_sentiment(score):\n",
    "    if score <= SENTIMENT_THRESHOLD:\n",
    "        label = NEGATIVE\n",
    "    else:\n",
    "        label = POSITIVE\n",
    "\n",
    "    return label"
   ]
  },
  {
   "cell_type": "code",
   "execution_count": 45,
   "id": "9995e5e8",
   "metadata": {
    "execution": {
     "iopub.execute_input": "2021-12-15T12:03:32.307769Z",
     "iopub.status.busy": "2021-12-15T12:03:32.302324Z",
     "iopub.status.idle": "2021-12-15T12:03:32.310987Z",
     "shell.execute_reply": "2021-12-15T12:03:32.310537Z",
     "shell.execute_reply.started": "2021-12-15T11:30:05.079817Z"
    },
    "papermill": {
     "duration": 0.221846,
     "end_time": "2021-12-15T12:03:32.311107",
     "exception": false,
     "start_time": "2021-12-15T12:03:32.089261",
     "status": "completed"
    },
    "tags": []
   },
   "outputs": [],
   "source": [
    "def predict(text):\n",
    "    start_at = time.time()\n",
    "    # Tokenize text\n",
    "    x_test = pad_sequences(tokenizer.texts_to_sequences([text]), maxlen=SEQUENCE_LENGTH)\n",
    "    # Predict\n",
    "    score = model.predict([x_test])[0]\n",
    "    # Decode sentiment\n",
    "    label = decode_sentiment(score)\n",
    "\n",
    "    return {\"label\": label, \"score\": float(score),\n",
    "       \"elapsed_time\": time.time()-start_at}  "
   ]
  },
  {
   "cell_type": "code",
   "execution_count": 46,
   "id": "024a0e7e",
   "metadata": {
    "_uuid": "37064dffcc8920d34ccd54fac7c8b50e583a8269",
    "execution": {
     "iopub.execute_input": "2021-12-15T12:03:32.735906Z",
     "iopub.status.busy": "2021-12-15T12:03:32.735084Z",
     "iopub.status.idle": "2021-12-15T12:03:33.301073Z",
     "shell.execute_reply": "2021-12-15T12:03:33.301491Z",
     "shell.execute_reply.started": "2021-12-15T11:30:05.091560Z"
    },
    "papermill": {
     "duration": 0.782383,
     "end_time": "2021-12-15T12:03:33.301646",
     "exception": false,
     "start_time": "2021-12-15T12:03:32.519263",
     "status": "completed"
    },
    "tags": []
   },
   "outputs": [
    {
     "data": {
      "text/plain": [
       "{'label': 'NEGATIVE',\n",
       " 'score': 0.21170875430107117,\n",
       " 'elapsed_time': 0.5610194206237793}"
      ]
     },
     "execution_count": 46,
     "metadata": {},
     "output_type": "execute_result"
    }
   ],
   "source": [
    "predict(\"Lütfen şu yemeği düzgün pişirin\")"
   ]
  },
  {
   "cell_type": "code",
   "execution_count": 47,
   "id": "afa7661a",
   "metadata": {
    "execution": {
     "iopub.execute_input": "2021-12-15T12:03:33.989641Z",
     "iopub.status.busy": "2021-12-15T12:03:33.988822Z",
     "iopub.status.idle": "2021-12-15T12:03:34.167505Z",
     "shell.execute_reply": "2021-12-15T12:03:34.168239Z",
     "shell.execute_reply.started": "2021-12-15T11:30:05.816523Z"
    },
    "papermill": {
     "duration": 0.488208,
     "end_time": "2021-12-15T12:03:34.168396",
     "exception": false,
     "start_time": "2021-12-15T12:03:33.680188",
     "status": "completed"
    },
    "tags": []
   },
   "outputs": [
    {
     "data": {
      "text/plain": [
       "{'label': 'NEGATIVE',\n",
       " 'score': 0.2712266445159912,\n",
       " 'elapsed_time': 0.17704534530639648}"
      ]
     },
     "execution_count": 47,
     "metadata": {},
     "output_type": "execute_result"
    }
   ],
   "source": [
    "predict(\"Leş gibi yemek yapmışsınız bu ne abi\")"
   ]
  },
  {
   "cell_type": "code",
   "execution_count": 48,
   "id": "9b9dabf7",
   "metadata": {
    "execution": {
     "iopub.execute_input": "2021-12-15T12:03:34.615528Z",
     "iopub.status.busy": "2021-12-15T12:03:34.614698Z",
     "iopub.status.idle": "2021-12-15T12:03:34.953111Z",
     "shell.execute_reply": "2021-12-15T12:03:34.952619Z",
     "shell.execute_reply.started": "2021-12-15T11:30:11.389400Z"
    },
    "papermill": {
     "duration": 0.556492,
     "end_time": "2021-12-15T12:03:34.953244",
     "exception": false,
     "start_time": "2021-12-15T12:03:34.396752",
     "status": "completed"
    },
    "tags": []
   },
   "outputs": [
    {
     "data": {
      "text/plain": [
       "{'label': 'POSITIVE',\n",
       " 'score': 0.9993818998336792,\n",
       " 'elapsed_time': 0.33409690856933594}"
      ]
     },
     "execution_count": 48,
     "metadata": {},
     "output_type": "execute_result"
    }
   ],
   "source": [
    "predict(\"Ellerinize sağlık çok güzeldi\")"
   ]
  },
  {
   "cell_type": "code",
   "execution_count": 49,
   "id": "1b31621a",
   "metadata": {
    "execution": {
     "iopub.execute_input": "2021-12-15T12:03:35.412782Z",
     "iopub.status.busy": "2021-12-15T12:03:35.411928Z",
     "iopub.status.idle": "2021-12-15T12:03:35.591597Z",
     "shell.execute_reply": "2021-12-15T12:03:35.591110Z",
     "shell.execute_reply.started": "2021-12-15T11:30:12.238727Z"
    },
    "papermill": {
     "duration": 0.417319,
     "end_time": "2021-12-15T12:03:35.591751",
     "exception": false,
     "start_time": "2021-12-15T12:03:35.174432",
     "status": "completed"
    },
    "tags": []
   },
   "outputs": [
    {
     "data": {
      "text/plain": [
       "{'label': 'NEGATIVE',\n",
       " 'score': 0.3892650902271271,\n",
       " 'elapsed_time': 0.17519187927246094}"
      ]
     },
     "execution_count": 49,
     "metadata": {},
     "output_type": "execute_result"
    }
   ],
   "source": [
    "predict(\"Bi tantuni yiyelim dedik kusacaktık reziller sizi\")"
   ]
  },
  {
   "cell_type": "code",
   "execution_count": 50,
   "id": "124ec584",
   "metadata": {
    "execution": {
     "iopub.execute_input": "2021-12-15T12:03:36.023603Z",
     "iopub.status.busy": "2021-12-15T12:03:36.022744Z",
     "iopub.status.idle": "2021-12-15T12:03:36.202040Z",
     "shell.execute_reply": "2021-12-15T12:03:36.201459Z",
     "shell.execute_reply.started": "2021-12-15T11:30:13.769195Z"
    },
    "papermill": {
     "duration": 0.399329,
     "end_time": "2021-12-15T12:03:36.202182",
     "exception": false,
     "start_time": "2021-12-15T12:03:35.802853",
     "status": "completed"
    },
    "tags": []
   },
   "outputs": [
    {
     "data": {
      "text/plain": [
       "{'label': 'POSITIVE',\n",
       " 'score': 0.9832890629768372,\n",
       " 'elapsed_time': 0.175917387008667}"
      ]
     },
     "execution_count": 50,
     "metadata": {},
     "output_type": "execute_result"
    }
   ],
   "source": [
    "predict(\"Hep buradan alıyoruz yine memnunuz teşekkürler\")"
   ]
  },
  {
   "cell_type": "code",
   "execution_count": 51,
   "id": "949f6b89",
   "metadata": {
    "execution": {
     "iopub.execute_input": "2021-12-15T12:03:36.645974Z",
     "iopub.status.busy": "2021-12-15T12:03:36.645146Z",
     "iopub.status.idle": "2021-12-15T12:03:36.822799Z",
     "shell.execute_reply": "2021-12-15T12:03:36.823878Z",
     "shell.execute_reply.started": "2021-12-15T11:30:15.995835Z"
    },
    "papermill": {
     "duration": 0.397643,
     "end_time": "2021-12-15T12:03:36.824053",
     "exception": false,
     "start_time": "2021-12-15T12:03:36.426410",
     "status": "completed"
    },
    "tags": []
   },
   "outputs": [
    {
     "data": {
      "text/plain": [
       "{'label': 'POSITIVE',\n",
       " 'score': 0.867641270160675,\n",
       " 'elapsed_time': 0.17314958572387695}"
      ]
     },
     "execution_count": 51,
     "metadata": {},
     "output_type": "execute_result"
    }
   ],
   "source": [
    "predict(\"EFFFFSANEYDİ BEEE\")"
   ]
  },
  {
   "cell_type": "code",
   "execution_count": 52,
   "id": "6bb97c5e",
   "metadata": {
    "execution": {
     "iopub.execute_input": "2021-12-15T12:03:37.257595Z",
     "iopub.status.busy": "2021-12-15T12:03:37.256751Z",
     "iopub.status.idle": "2021-12-15T12:03:37.443424Z",
     "shell.execute_reply": "2021-12-15T12:03:37.442591Z",
     "shell.execute_reply.started": "2021-12-15T11:30:30.237079Z"
    },
    "papermill": {
     "duration": 0.407219,
     "end_time": "2021-12-15T12:03:37.443587",
     "exception": false,
     "start_time": "2021-12-15T12:03:37.036368",
     "status": "completed"
    },
    "tags": []
   },
   "outputs": [
    {
     "data": {
      "text/plain": [
       "{'label': 'NEGATIVE',\n",
       " 'score': 0.1770942509174347,\n",
       " 'elapsed_time': 0.1835184097290039}"
      ]
     },
     "execution_count": 52,
     "metadata": {},
     "output_type": "execute_result"
    }
   ],
   "source": [
    "predict(\"bir daha burdan almayın paranıza yazık\")"
   ]
  },
  {
   "cell_type": "markdown",
   "id": "03a90275",
   "metadata": {
    "_uuid": "3ee72e47f84b6dbc32e02a783de5ec1661f157e1",
    "papermill": {
     "duration": 0.218239,
     "end_time": "2021-12-15T12:03:37.873927",
     "exception": false,
     "start_time": "2021-12-15T12:03:37.655688",
     "status": "completed"
    },
    "tags": []
   },
   "source": [
    "### Confusion Matrix"
   ]
  },
  {
   "cell_type": "code",
   "execution_count": 53,
   "id": "f3c5bcf8",
   "metadata": {
    "_uuid": "0e920173eb05f04aecdd735bc5dff0f5be5f8d15",
    "execution": {
     "iopub.execute_input": "2021-12-15T12:03:38.314898Z",
     "iopub.status.busy": "2021-12-15T12:03:38.313904Z",
     "iopub.status.idle": "2021-12-15T12:03:39.349658Z",
     "shell.execute_reply": "2021-12-15T12:03:39.350373Z",
     "shell.execute_reply.started": "2021-12-15T11:31:38.430864Z"
    },
    "papermill": {
     "duration": 1.257901,
     "end_time": "2021-12-15T12:03:39.350529",
     "exception": false,
     "start_time": "2021-12-15T12:03:38.092628",
     "status": "completed"
    },
    "tags": []
   },
   "outputs": [
    {
     "name": "stdout",
     "output_type": "stream",
     "text": [
      "1/1 [==============================] - 1s 826ms/step\n",
      "CPU times: user 824 ms, sys: 66.3 ms, total: 890 ms\n",
      "Wall time: 1.04 s\n"
     ]
    }
   ],
   "source": [
    "%%time\n",
    "y_pred_1d = []\n",
    "y_test_1d = list(df_test.target)\n",
    "scores = model.predict(x_test, verbose=1, batch_size=8000)\n",
    "y_pred_1d = [decode_sentiment(score) for score in scores]"
   ]
  },
  {
   "cell_type": "code",
   "execution_count": 54,
   "id": "9a318aad",
   "metadata": {
    "collapsed": true,
    "execution": {
     "iopub.execute_input": "2021-12-15T12:03:39.794987Z",
     "iopub.status.busy": "2021-12-15T12:03:39.789812Z",
     "iopub.status.idle": "2021-12-15T12:03:39.805323Z",
     "shell.execute_reply": "2021-12-15T12:03:39.805759Z",
     "shell.execute_reply.started": "2021-12-15T11:31:46.306600Z"
    },
    "jupyter": {
     "outputs_hidden": true
    },
    "papermill": {
     "duration": 0.243652,
     "end_time": "2021-12-15T12:03:39.805903",
     "exception": false,
     "start_time": "2021-12-15T12:03:39.562251",
     "status": "completed"
    },
    "tags": []
   },
   "outputs": [
    {
     "data": {
      "text/plain": [
       "['POSITIVE',\n",
       " 'NEGATIVE',\n",
       " 'POSITIVE',\n",
       " 'POSITIVE',\n",
       " 'POSITIVE',\n",
       " 'POSITIVE',\n",
       " 'POSITIVE',\n",
       " 'NEGATIVE',\n",
       " 'POSITIVE',\n",
       " 'POSITIVE',\n",
       " 'POSITIVE',\n",
       " 'NEGATIVE',\n",
       " 'POSITIVE',\n",
       " 'NEGATIVE',\n",
       " 'POSITIVE',\n",
       " 'POSITIVE',\n",
       " 'POSITIVE',\n",
       " 'POSITIVE',\n",
       " 'POSITIVE',\n",
       " 'POSITIVE',\n",
       " 'POSITIVE',\n",
       " 'POSITIVE',\n",
       " 'POSITIVE',\n",
       " 'NEGATIVE',\n",
       " 'POSITIVE',\n",
       " 'POSITIVE',\n",
       " 'NEGATIVE',\n",
       " 'POSITIVE',\n",
       " 'POSITIVE',\n",
       " 'POSITIVE',\n",
       " 'POSITIVE',\n",
       " 'NEGATIVE',\n",
       " 'POSITIVE',\n",
       " 'POSITIVE',\n",
       " 'POSITIVE',\n",
       " 'NEGATIVE',\n",
       " 'POSITIVE',\n",
       " 'NEGATIVE',\n",
       " 'NEGATIVE',\n",
       " 'POSITIVE',\n",
       " 'POSITIVE',\n",
       " 'POSITIVE',\n",
       " 'POSITIVE',\n",
       " 'POSITIVE',\n",
       " 'POSITIVE',\n",
       " 'POSITIVE',\n",
       " 'POSITIVE',\n",
       " 'POSITIVE',\n",
       " 'NEGATIVE',\n",
       " 'POSITIVE',\n",
       " 'POSITIVE',\n",
       " 'POSITIVE',\n",
       " 'POSITIVE',\n",
       " 'POSITIVE',\n",
       " 'POSITIVE',\n",
       " 'POSITIVE',\n",
       " 'POSITIVE',\n",
       " 'POSITIVE',\n",
       " 'POSITIVE',\n",
       " 'POSITIVE',\n",
       " 'POSITIVE',\n",
       " 'POSITIVE',\n",
       " 'POSITIVE',\n",
       " 'POSITIVE',\n",
       " 'NEGATIVE',\n",
       " 'POSITIVE',\n",
       " 'POSITIVE',\n",
       " 'POSITIVE',\n",
       " 'POSITIVE',\n",
       " 'POSITIVE',\n",
       " 'POSITIVE',\n",
       " 'POSITIVE',\n",
       " 'POSITIVE',\n",
       " 'POSITIVE',\n",
       " 'POSITIVE',\n",
       " 'POSITIVE',\n",
       " 'NEGATIVE',\n",
       " 'POSITIVE',\n",
       " 'POSITIVE',\n",
       " 'NEGATIVE',\n",
       " 'POSITIVE',\n",
       " 'POSITIVE',\n",
       " 'POSITIVE',\n",
       " 'NEGATIVE',\n",
       " 'POSITIVE',\n",
       " 'POSITIVE',\n",
       " 'POSITIVE',\n",
       " 'NEGATIVE',\n",
       " 'POSITIVE',\n",
       " 'POSITIVE',\n",
       " 'POSITIVE',\n",
       " 'POSITIVE',\n",
       " 'POSITIVE',\n",
       " 'NEGATIVE',\n",
       " 'POSITIVE',\n",
       " 'POSITIVE',\n",
       " 'NEGATIVE',\n",
       " 'NEGATIVE',\n",
       " 'POSITIVE',\n",
       " 'POSITIVE',\n",
       " 'NEGATIVE',\n",
       " 'POSITIVE',\n",
       " 'NEGATIVE',\n",
       " 'POSITIVE',\n",
       " 'POSITIVE',\n",
       " 'NEGATIVE',\n",
       " 'POSITIVE',\n",
       " 'POSITIVE',\n",
       " 'NEGATIVE',\n",
       " 'POSITIVE',\n",
       " 'POSITIVE',\n",
       " 'POSITIVE',\n",
       " 'POSITIVE',\n",
       " 'POSITIVE',\n",
       " 'POSITIVE',\n",
       " 'NEGATIVE',\n",
       " 'POSITIVE',\n",
       " 'POSITIVE',\n",
       " 'POSITIVE',\n",
       " 'POSITIVE',\n",
       " 'NEGATIVE',\n",
       " 'POSITIVE',\n",
       " 'NEGATIVE',\n",
       " 'NEGATIVE',\n",
       " 'POSITIVE',\n",
       " 'POSITIVE',\n",
       " 'POSITIVE',\n",
       " 'POSITIVE',\n",
       " 'POSITIVE',\n",
       " 'POSITIVE',\n",
       " 'POSITIVE',\n",
       " 'NEGATIVE',\n",
       " 'NEGATIVE',\n",
       " 'POSITIVE',\n",
       " 'POSITIVE',\n",
       " 'POSITIVE',\n",
       " 'POSITIVE',\n",
       " 'POSITIVE',\n",
       " 'POSITIVE',\n",
       " 'NEGATIVE',\n",
       " 'POSITIVE',\n",
       " 'POSITIVE',\n",
       " 'POSITIVE',\n",
       " 'POSITIVE',\n",
       " 'POSITIVE',\n",
       " 'POSITIVE',\n",
       " 'POSITIVE',\n",
       " 'POSITIVE',\n",
       " 'POSITIVE',\n",
       " 'POSITIVE',\n",
       " 'POSITIVE',\n",
       " 'POSITIVE',\n",
       " 'POSITIVE',\n",
       " 'NEGATIVE',\n",
       " 'POSITIVE',\n",
       " 'NEGATIVE',\n",
       " 'NEGATIVE',\n",
       " 'POSITIVE',\n",
       " 'NEGATIVE',\n",
       " 'POSITIVE',\n",
       " 'NEGATIVE',\n",
       " 'POSITIVE',\n",
       " 'POSITIVE',\n",
       " 'POSITIVE',\n",
       " 'POSITIVE',\n",
       " 'NEGATIVE',\n",
       " 'POSITIVE',\n",
       " 'POSITIVE',\n",
       " 'POSITIVE',\n",
       " 'POSITIVE',\n",
       " 'POSITIVE',\n",
       " 'POSITIVE',\n",
       " 'POSITIVE',\n",
       " 'POSITIVE',\n",
       " 'POSITIVE',\n",
       " 'POSITIVE',\n",
       " 'NEGATIVE',\n",
       " 'POSITIVE',\n",
       " 'POSITIVE',\n",
       " 'POSITIVE',\n",
       " 'POSITIVE',\n",
       " 'NEGATIVE',\n",
       " 'POSITIVE',\n",
       " 'POSITIVE',\n",
       " 'POSITIVE',\n",
       " 'POSITIVE',\n",
       " 'POSITIVE',\n",
       " 'POSITIVE',\n",
       " 'NEGATIVE',\n",
       " 'POSITIVE',\n",
       " 'POSITIVE',\n",
       " 'NEGATIVE',\n",
       " 'NEGATIVE',\n",
       " 'POSITIVE',\n",
       " 'POSITIVE',\n",
       " 'POSITIVE',\n",
       " 'POSITIVE',\n",
       " 'POSITIVE',\n",
       " 'POSITIVE',\n",
       " 'POSITIVE',\n",
       " 'NEGATIVE',\n",
       " 'POSITIVE',\n",
       " 'POSITIVE',\n",
       " 'POSITIVE',\n",
       " 'POSITIVE',\n",
       " 'POSITIVE',\n",
       " 'POSITIVE',\n",
       " 'POSITIVE',\n",
       " 'POSITIVE',\n",
       " 'NEGATIVE',\n",
       " 'POSITIVE',\n",
       " 'POSITIVE',\n",
       " 'POSITIVE',\n",
       " 'POSITIVE',\n",
       " 'NEGATIVE',\n",
       " 'POSITIVE',\n",
       " 'POSITIVE',\n",
       " 'POSITIVE',\n",
       " 'NEGATIVE',\n",
       " 'POSITIVE',\n",
       " 'POSITIVE',\n",
       " 'POSITIVE',\n",
       " 'NEGATIVE',\n",
       " 'POSITIVE',\n",
       " 'POSITIVE',\n",
       " 'NEGATIVE',\n",
       " 'NEGATIVE',\n",
       " 'POSITIVE',\n",
       " 'POSITIVE',\n",
       " 'POSITIVE',\n",
       " 'POSITIVE',\n",
       " 'POSITIVE',\n",
       " 'POSITIVE',\n",
       " 'NEGATIVE',\n",
       " 'POSITIVE',\n",
       " 'POSITIVE',\n",
       " 'POSITIVE',\n",
       " 'POSITIVE',\n",
       " 'POSITIVE',\n",
       " 'POSITIVE',\n",
       " 'POSITIVE',\n",
       " 'NEGATIVE',\n",
       " 'POSITIVE',\n",
       " 'POSITIVE',\n",
       " 'POSITIVE',\n",
       " 'NEGATIVE',\n",
       " 'NEGATIVE',\n",
       " 'POSITIVE',\n",
       " 'POSITIVE',\n",
       " 'POSITIVE',\n",
       " 'POSITIVE',\n",
       " 'NEGATIVE',\n",
       " 'POSITIVE',\n",
       " 'POSITIVE',\n",
       " 'POSITIVE',\n",
       " 'NEGATIVE',\n",
       " 'POSITIVE',\n",
       " 'POSITIVE',\n",
       " 'POSITIVE',\n",
       " 'POSITIVE',\n",
       " 'NEGATIVE',\n",
       " 'POSITIVE',\n",
       " 'NEGATIVE',\n",
       " 'POSITIVE',\n",
       " 'POSITIVE',\n",
       " 'NEGATIVE',\n",
       " 'POSITIVE',\n",
       " 'POSITIVE',\n",
       " 'POSITIVE',\n",
       " 'POSITIVE',\n",
       " 'POSITIVE',\n",
       " 'NEGATIVE',\n",
       " 'POSITIVE',\n",
       " 'NEGATIVE',\n",
       " 'NEGATIVE',\n",
       " 'NEGATIVE',\n",
       " 'NEGATIVE',\n",
       " 'POSITIVE',\n",
       " 'POSITIVE',\n",
       " 'NEGATIVE',\n",
       " 'POSITIVE',\n",
       " 'POSITIVE',\n",
       " 'POSITIVE',\n",
       " 'NEGATIVE',\n",
       " 'POSITIVE',\n",
       " 'POSITIVE',\n",
       " 'POSITIVE',\n",
       " 'NEGATIVE',\n",
       " 'POSITIVE',\n",
       " 'POSITIVE',\n",
       " 'POSITIVE',\n",
       " 'POSITIVE',\n",
       " 'POSITIVE',\n",
       " 'NEGATIVE',\n",
       " 'POSITIVE',\n",
       " 'POSITIVE',\n",
       " 'POSITIVE',\n",
       " 'POSITIVE',\n",
       " 'NEGATIVE',\n",
       " 'NEGATIVE',\n",
       " 'POSITIVE',\n",
       " 'POSITIVE',\n",
       " 'POSITIVE',\n",
       " 'POSITIVE',\n",
       " 'POSITIVE',\n",
       " 'NEGATIVE',\n",
       " 'NEGATIVE',\n",
       " 'POSITIVE',\n",
       " 'POSITIVE',\n",
       " 'POSITIVE',\n",
       " 'POSITIVE',\n",
       " 'NEGATIVE',\n",
       " 'POSITIVE',\n",
       " 'POSITIVE',\n",
       " 'NEGATIVE',\n",
       " 'POSITIVE',\n",
       " 'NEGATIVE',\n",
       " 'POSITIVE',\n",
       " 'POSITIVE',\n",
       " 'POSITIVE',\n",
       " 'NEGATIVE',\n",
       " 'POSITIVE',\n",
       " 'NEGATIVE',\n",
       " 'NEGATIVE',\n",
       " 'POSITIVE',\n",
       " 'NEGATIVE',\n",
       " 'POSITIVE',\n",
       " 'NEGATIVE',\n",
       " 'NEGATIVE',\n",
       " 'POSITIVE',\n",
       " 'POSITIVE',\n",
       " 'POSITIVE',\n",
       " 'NEGATIVE',\n",
       " 'NEGATIVE',\n",
       " 'POSITIVE',\n",
       " 'POSITIVE',\n",
       " 'POSITIVE',\n",
       " 'POSITIVE',\n",
       " 'POSITIVE',\n",
       " 'NEGATIVE',\n",
       " 'NEGATIVE',\n",
       " 'NEGATIVE',\n",
       " 'NEGATIVE',\n",
       " 'POSITIVE',\n",
       " 'NEGATIVE',\n",
       " 'POSITIVE',\n",
       " 'NEGATIVE',\n",
       " 'NEGATIVE',\n",
       " 'POSITIVE',\n",
       " 'NEGATIVE',\n",
       " 'POSITIVE',\n",
       " 'POSITIVE',\n",
       " 'NEGATIVE',\n",
       " 'POSITIVE',\n",
       " 'POSITIVE',\n",
       " 'POSITIVE',\n",
       " 'NEGATIVE',\n",
       " 'POSITIVE',\n",
       " 'NEGATIVE',\n",
       " 'NEGATIVE',\n",
       " 'POSITIVE',\n",
       " 'NEGATIVE',\n",
       " 'POSITIVE',\n",
       " 'POSITIVE',\n",
       " 'POSITIVE',\n",
       " 'POSITIVE',\n",
       " 'POSITIVE',\n",
       " 'POSITIVE',\n",
       " 'NEGATIVE',\n",
       " 'POSITIVE',\n",
       " 'POSITIVE',\n",
       " 'POSITIVE',\n",
       " 'POSITIVE',\n",
       " 'POSITIVE',\n",
       " 'POSITIVE',\n",
       " 'POSITIVE',\n",
       " 'POSITIVE',\n",
       " 'POSITIVE',\n",
       " 'POSITIVE',\n",
       " 'NEGATIVE',\n",
       " 'POSITIVE',\n",
       " 'NEGATIVE',\n",
       " 'POSITIVE',\n",
       " 'POSITIVE',\n",
       " 'POSITIVE',\n",
       " 'POSITIVE',\n",
       " 'POSITIVE',\n",
       " 'NEGATIVE',\n",
       " 'POSITIVE',\n",
       " 'POSITIVE',\n",
       " 'POSITIVE',\n",
       " 'NEGATIVE',\n",
       " 'POSITIVE',\n",
       " 'POSITIVE',\n",
       " 'NEGATIVE',\n",
       " 'NEGATIVE',\n",
       " 'POSITIVE',\n",
       " 'POSITIVE',\n",
       " 'POSITIVE',\n",
       " 'POSITIVE',\n",
       " 'NEGATIVE',\n",
       " 'POSITIVE',\n",
       " 'POSITIVE',\n",
       " 'POSITIVE',\n",
       " 'NEGATIVE',\n",
       " 'POSITIVE',\n",
       " 'POSITIVE',\n",
       " 'POSITIVE',\n",
       " 'POSITIVE',\n",
       " 'POSITIVE',\n",
       " 'POSITIVE',\n",
       " 'POSITIVE',\n",
       " 'POSITIVE',\n",
       " 'POSITIVE',\n",
       " 'POSITIVE',\n",
       " 'NEGATIVE',\n",
       " 'POSITIVE',\n",
       " 'POSITIVE',\n",
       " 'POSITIVE',\n",
       " 'POSITIVE',\n",
       " 'POSITIVE',\n",
       " 'POSITIVE',\n",
       " 'POSITIVE',\n",
       " 'POSITIVE',\n",
       " 'POSITIVE',\n",
       " 'POSITIVE',\n",
       " 'POSITIVE',\n",
       " 'POSITIVE',\n",
       " 'POSITIVE',\n",
       " 'POSITIVE',\n",
       " 'POSITIVE',\n",
       " 'POSITIVE',\n",
       " 'POSITIVE',\n",
       " 'POSITIVE',\n",
       " 'POSITIVE',\n",
       " 'POSITIVE',\n",
       " 'NEGATIVE',\n",
       " 'NEGATIVE',\n",
       " 'NEGATIVE',\n",
       " 'POSITIVE',\n",
       " 'NEGATIVE',\n",
       " 'POSITIVE',\n",
       " 'POSITIVE',\n",
       " 'NEGATIVE',\n",
       " 'NEGATIVE',\n",
       " 'NEGATIVE',\n",
       " 'POSITIVE',\n",
       " 'NEGATIVE',\n",
       " 'POSITIVE',\n",
       " 'POSITIVE',\n",
       " 'POSITIVE',\n",
       " 'NEGATIVE',\n",
       " 'NEGATIVE',\n",
       " 'POSITIVE',\n",
       " 'POSITIVE',\n",
       " 'POSITIVE',\n",
       " 'POSITIVE',\n",
       " 'POSITIVE',\n",
       " 'POSITIVE',\n",
       " 'POSITIVE',\n",
       " 'NEGATIVE',\n",
       " 'POSITIVE',\n",
       " 'NEGATIVE',\n",
       " 'NEGATIVE',\n",
       " 'POSITIVE',\n",
       " 'POSITIVE',\n",
       " 'NEGATIVE',\n",
       " 'POSITIVE',\n",
       " 'POSITIVE',\n",
       " 'NEGATIVE',\n",
       " 'POSITIVE',\n",
       " 'POSITIVE',\n",
       " 'POSITIVE',\n",
       " 'POSITIVE',\n",
       " 'POSITIVE',\n",
       " 'POSITIVE',\n",
       " 'POSITIVE',\n",
       " 'POSITIVE',\n",
       " 'POSITIVE',\n",
       " 'POSITIVE',\n",
       " 'POSITIVE',\n",
       " 'POSITIVE',\n",
       " 'POSITIVE',\n",
       " 'POSITIVE',\n",
       " 'NEGATIVE',\n",
       " 'POSITIVE',\n",
       " 'NEGATIVE',\n",
       " 'POSITIVE',\n",
       " 'POSITIVE',\n",
       " 'POSITIVE',\n",
       " 'POSITIVE',\n",
       " 'POSITIVE',\n",
       " 'POSITIVE',\n",
       " 'POSITIVE',\n",
       " 'POSITIVE',\n",
       " 'POSITIVE',\n",
       " 'POSITIVE',\n",
       " 'NEGATIVE',\n",
       " 'POSITIVE',\n",
       " 'NEGATIVE',\n",
       " 'POSITIVE',\n",
       " 'POSITIVE',\n",
       " 'POSITIVE',\n",
       " 'POSITIVE',\n",
       " 'POSITIVE',\n",
       " 'POSITIVE',\n",
       " 'POSITIVE',\n",
       " 'POSITIVE',\n",
       " 'POSITIVE',\n",
       " 'POSITIVE',\n",
       " 'POSITIVE',\n",
       " 'NEGATIVE',\n",
       " 'POSITIVE',\n",
       " 'POSITIVE',\n",
       " 'POSITIVE',\n",
       " 'POSITIVE',\n",
       " 'POSITIVE',\n",
       " 'POSITIVE',\n",
       " 'POSITIVE',\n",
       " 'NEGATIVE',\n",
       " 'POSITIVE',\n",
       " 'POSITIVE',\n",
       " 'POSITIVE',\n",
       " 'POSITIVE',\n",
       " 'NEGATIVE',\n",
       " 'NEGATIVE',\n",
       " 'POSITIVE',\n",
       " 'NEGATIVE',\n",
       " 'POSITIVE',\n",
       " 'NEGATIVE',\n",
       " 'POSITIVE',\n",
       " 'POSITIVE',\n",
       " 'POSITIVE',\n",
       " 'POSITIVE',\n",
       " 'POSITIVE',\n",
       " 'NEGATIVE',\n",
       " 'NEGATIVE',\n",
       " 'POSITIVE',\n",
       " 'NEGATIVE',\n",
       " 'POSITIVE',\n",
       " 'NEGATIVE',\n",
       " 'POSITIVE',\n",
       " 'POSITIVE',\n",
       " 'POSITIVE',\n",
       " 'NEGATIVE',\n",
       " 'POSITIVE',\n",
       " 'POSITIVE',\n",
       " 'POSITIVE',\n",
       " 'POSITIVE',\n",
       " 'POSITIVE',\n",
       " 'POSITIVE',\n",
       " 'POSITIVE',\n",
       " 'POSITIVE',\n",
       " 'POSITIVE',\n",
       " 'POSITIVE',\n",
       " 'POSITIVE',\n",
       " 'POSITIVE',\n",
       " 'NEGATIVE',\n",
       " 'POSITIVE',\n",
       " 'NEGATIVE',\n",
       " 'POSITIVE',\n",
       " 'NEGATIVE',\n",
       " 'NEGATIVE',\n",
       " 'POSITIVE',\n",
       " 'POSITIVE',\n",
       " 'NEGATIVE',\n",
       " 'POSITIVE',\n",
       " 'POSITIVE',\n",
       " 'POSITIVE',\n",
       " 'NEGATIVE',\n",
       " 'POSITIVE',\n",
       " 'NEGATIVE',\n",
       " 'POSITIVE',\n",
       " 'POSITIVE',\n",
       " 'NEGATIVE',\n",
       " 'NEGATIVE',\n",
       " 'POSITIVE',\n",
       " 'NEGATIVE',\n",
       " 'POSITIVE',\n",
       " 'POSITIVE',\n",
       " 'NEGATIVE',\n",
       " 'POSITIVE',\n",
       " 'POSITIVE',\n",
       " 'NEGATIVE',\n",
       " 'POSITIVE',\n",
       " 'POSITIVE',\n",
       " 'NEGATIVE',\n",
       " 'POSITIVE',\n",
       " 'NEGATIVE',\n",
       " 'POSITIVE',\n",
       " 'POSITIVE',\n",
       " 'POSITIVE',\n",
       " 'NEGATIVE',\n",
       " 'POSITIVE',\n",
       " 'NEGATIVE',\n",
       " 'NEGATIVE',\n",
       " 'POSITIVE',\n",
       " 'POSITIVE',\n",
       " 'POSITIVE',\n",
       " 'NEGATIVE',\n",
       " 'NEGATIVE',\n",
       " 'POSITIVE',\n",
       " 'NEGATIVE',\n",
       " 'POSITIVE',\n",
       " 'POSITIVE',\n",
       " 'POSITIVE',\n",
       " 'POSITIVE',\n",
       " 'POSITIVE',\n",
       " 'POSITIVE',\n",
       " 'NEGATIVE',\n",
       " 'POSITIVE',\n",
       " 'POSITIVE',\n",
       " 'POSITIVE',\n",
       " 'POSITIVE',\n",
       " 'POSITIVE',\n",
       " 'POSITIVE',\n",
       " 'POSITIVE',\n",
       " 'NEGATIVE',\n",
       " 'NEGATIVE',\n",
       " 'POSITIVE',\n",
       " 'POSITIVE',\n",
       " 'POSITIVE',\n",
       " 'NEGATIVE',\n",
       " 'NEGATIVE',\n",
       " 'POSITIVE',\n",
       " 'POSITIVE',\n",
       " 'NEGATIVE',\n",
       " 'POSITIVE',\n",
       " 'NEGATIVE',\n",
       " 'POSITIVE',\n",
       " 'POSITIVE',\n",
       " 'NEGATIVE',\n",
       " 'POSITIVE',\n",
       " 'POSITIVE',\n",
       " 'POSITIVE',\n",
       " 'NEGATIVE',\n",
       " 'POSITIVE',\n",
       " 'POSITIVE',\n",
       " 'POSITIVE',\n",
       " 'POSITIVE',\n",
       " 'POSITIVE',\n",
       " 'NEGATIVE',\n",
       " 'POSITIVE',\n",
       " 'POSITIVE',\n",
       " 'POSITIVE',\n",
       " 'NEGATIVE',\n",
       " 'POSITIVE',\n",
       " 'NEGATIVE',\n",
       " 'POSITIVE',\n",
       " 'NEGATIVE',\n",
       " 'NEGATIVE',\n",
       " 'POSITIVE',\n",
       " 'POSITIVE',\n",
       " 'POSITIVE',\n",
       " 'POSITIVE',\n",
       " 'NEGATIVE',\n",
       " 'POSITIVE',\n",
       " 'POSITIVE',\n",
       " 'POSITIVE',\n",
       " 'POSITIVE',\n",
       " 'POSITIVE',\n",
       " 'NEGATIVE',\n",
       " 'POSITIVE',\n",
       " 'POSITIVE',\n",
       " 'NEGATIVE',\n",
       " 'POSITIVE',\n",
       " 'POSITIVE',\n",
       " 'POSITIVE',\n",
       " 'POSITIVE',\n",
       " 'NEGATIVE',\n",
       " 'NEGATIVE',\n",
       " 'POSITIVE',\n",
       " 'POSITIVE',\n",
       " 'POSITIVE',\n",
       " 'POSITIVE',\n",
       " 'POSITIVE',\n",
       " 'POSITIVE',\n",
       " 'POSITIVE',\n",
       " 'NEGATIVE',\n",
       " 'POSITIVE',\n",
       " 'POSITIVE',\n",
       " 'NEGATIVE',\n",
       " 'NEGATIVE',\n",
       " 'NEGATIVE',\n",
       " 'POSITIVE',\n",
       " 'POSITIVE',\n",
       " 'NEGATIVE',\n",
       " 'NEGATIVE',\n",
       " 'POSITIVE',\n",
       " 'POSITIVE',\n",
       " 'POSITIVE',\n",
       " 'POSITIVE',\n",
       " 'POSITIVE',\n",
       " 'NEGATIVE',\n",
       " 'POSITIVE',\n",
       " 'NEGATIVE',\n",
       " 'POSITIVE',\n",
       " 'NEGATIVE',\n",
       " 'POSITIVE',\n",
       " 'POSITIVE',\n",
       " 'POSITIVE',\n",
       " 'POSITIVE',\n",
       " 'NEGATIVE',\n",
       " 'NEGATIVE',\n",
       " 'POSITIVE',\n",
       " 'POSITIVE',\n",
       " 'POSITIVE',\n",
       " 'POSITIVE',\n",
       " 'NEGATIVE',\n",
       " 'POSITIVE',\n",
       " 'POSITIVE',\n",
       " 'POSITIVE',\n",
       " 'POSITIVE',\n",
       " 'POSITIVE',\n",
       " 'POSITIVE',\n",
       " 'POSITIVE',\n",
       " 'NEGATIVE',\n",
       " 'POSITIVE',\n",
       " 'POSITIVE',\n",
       " 'POSITIVE',\n",
       " 'POSITIVE',\n",
       " 'POSITIVE',\n",
       " 'POSITIVE',\n",
       " 'POSITIVE',\n",
       " 'POSITIVE',\n",
       " 'POSITIVE',\n",
       " 'NEGATIVE',\n",
       " 'POSITIVE',\n",
       " 'NEGATIVE',\n",
       " 'POSITIVE',\n",
       " 'POSITIVE',\n",
       " 'POSITIVE',\n",
       " 'POSITIVE',\n",
       " 'POSITIVE',\n",
       " 'POSITIVE',\n",
       " 'POSITIVE',\n",
       " 'POSITIVE',\n",
       " 'POSITIVE',\n",
       " 'POSITIVE',\n",
       " 'POSITIVE',\n",
       " 'POSITIVE',\n",
       " 'NEGATIVE',\n",
       " 'NEGATIVE',\n",
       " 'POSITIVE',\n",
       " 'NEGATIVE',\n",
       " 'NEGATIVE',\n",
       " 'POSITIVE',\n",
       " 'POSITIVE',\n",
       " 'POSITIVE',\n",
       " 'NEGATIVE',\n",
       " 'POSITIVE',\n",
       " 'POSITIVE',\n",
       " 'POSITIVE',\n",
       " 'NEGATIVE',\n",
       " 'NEGATIVE',\n",
       " 'POSITIVE',\n",
       " 'POSITIVE',\n",
       " 'NEGATIVE',\n",
       " 'POSITIVE',\n",
       " 'NEGATIVE',\n",
       " 'POSITIVE',\n",
       " 'POSITIVE',\n",
       " 'NEGATIVE',\n",
       " 'NEGATIVE',\n",
       " 'POSITIVE',\n",
       " 'NEGATIVE',\n",
       " 'POSITIVE',\n",
       " 'POSITIVE',\n",
       " 'POSITIVE',\n",
       " 'POSITIVE',\n",
       " 'POSITIVE',\n",
       " 'POSITIVE',\n",
       " 'POSITIVE',\n",
       " 'POSITIVE',\n",
       " 'POSITIVE',\n",
       " 'NEGATIVE',\n",
       " 'POSITIVE',\n",
       " 'POSITIVE',\n",
       " 'NEGATIVE',\n",
       " 'POSITIVE',\n",
       " 'POSITIVE',\n",
       " 'POSITIVE',\n",
       " 'POSITIVE',\n",
       " 'POSITIVE',\n",
       " 'POSITIVE',\n",
       " 'POSITIVE',\n",
       " 'POSITIVE',\n",
       " 'POSITIVE',\n",
       " 'POSITIVE',\n",
       " 'POSITIVE',\n",
       " 'POSITIVE',\n",
       " 'NEGATIVE',\n",
       " 'POSITIVE',\n",
       " 'NEGATIVE',\n",
       " 'POSITIVE',\n",
       " 'POSITIVE',\n",
       " 'NEGATIVE',\n",
       " 'POSITIVE',\n",
       " 'NEGATIVE',\n",
       " 'POSITIVE',\n",
       " 'POSITIVE',\n",
       " 'NEGATIVE',\n",
       " 'POSITIVE',\n",
       " 'POSITIVE',\n",
       " 'POSITIVE',\n",
       " 'POSITIVE',\n",
       " 'NEGATIVE',\n",
       " 'POSITIVE',\n",
       " 'POSITIVE',\n",
       " 'POSITIVE',\n",
       " 'NEGATIVE',\n",
       " 'POSITIVE',\n",
       " 'POSITIVE',\n",
       " 'POSITIVE',\n",
       " 'POSITIVE',\n",
       " 'NEGATIVE',\n",
       " 'POSITIVE',\n",
       " 'POSITIVE',\n",
       " 'POSITIVE',\n",
       " 'POSITIVE',\n",
       " 'POSITIVE',\n",
       " 'POSITIVE',\n",
       " 'POSITIVE',\n",
       " 'POSITIVE',\n",
       " 'POSITIVE',\n",
       " 'POSITIVE',\n",
       " 'NEGATIVE',\n",
       " 'POSITIVE',\n",
       " 'NEGATIVE',\n",
       " 'NEGATIVE',\n",
       " 'POSITIVE',\n",
       " 'POSITIVE',\n",
       " 'POSITIVE',\n",
       " 'NEGATIVE',\n",
       " 'POSITIVE',\n",
       " 'NEGATIVE',\n",
       " 'POSITIVE',\n",
       " 'POSITIVE',\n",
       " 'POSITIVE',\n",
       " 'NEGATIVE',\n",
       " 'POSITIVE',\n",
       " 'NEGATIVE',\n",
       " 'POSITIVE',\n",
       " 'POSITIVE',\n",
       " 'POSITIVE',\n",
       " 'NEGATIVE',\n",
       " 'POSITIVE',\n",
       " 'POSITIVE',\n",
       " 'POSITIVE',\n",
       " 'POSITIVE',\n",
       " 'POSITIVE',\n",
       " 'POSITIVE',\n",
       " 'POSITIVE',\n",
       " 'POSITIVE',\n",
       " 'POSITIVE',\n",
       " 'NEGATIVE',\n",
       " 'NEGATIVE',\n",
       " 'POSITIVE',\n",
       " 'POSITIVE',\n",
       " 'POSITIVE',\n",
       " 'POSITIVE',\n",
       " 'POSITIVE',\n",
       " 'POSITIVE',\n",
       " 'POSITIVE',\n",
       " 'POSITIVE',\n",
       " 'NEGATIVE',\n",
       " 'POSITIVE',\n",
       " 'POSITIVE',\n",
       " 'POSITIVE',\n",
       " 'POSITIVE',\n",
       " 'POSITIVE',\n",
       " 'NEGATIVE',\n",
       " 'POSITIVE',\n",
       " 'POSITIVE',\n",
       " 'NEGATIVE',\n",
       " 'NEGATIVE',\n",
       " 'POSITIVE',\n",
       " 'POSITIVE',\n",
       " 'POSITIVE',\n",
       " 'POSITIVE',\n",
       " 'POSITIVE',\n",
       " 'NEGATIVE',\n",
       " 'POSITIVE',\n",
       " 'POSITIVE',\n",
       " 'POSITIVE',\n",
       " 'POSITIVE',\n",
       " 'POSITIVE',\n",
       " 'POSITIVE',\n",
       " 'POSITIVE',\n",
       " 'POSITIVE',\n",
       " 'NEGATIVE',\n",
       " 'POSITIVE',\n",
       " 'POSITIVE',\n",
       " 'POSITIVE',\n",
       " 'POSITIVE',\n",
       " 'POSITIVE',\n",
       " 'POSITIVE',\n",
       " 'POSITIVE',\n",
       " 'POSITIVE',\n",
       " 'POSITIVE',\n",
       " 'NEGATIVE',\n",
       " 'POSITIVE',\n",
       " 'NEGATIVE',\n",
       " 'NEGATIVE',\n",
       " 'POSITIVE',\n",
       " 'POSITIVE',\n",
       " 'POSITIVE',\n",
       " 'POSITIVE',\n",
       " 'NEGATIVE',\n",
       " 'POSITIVE',\n",
       " 'POSITIVE',\n",
       " 'POSITIVE',\n",
       " 'POSITIVE',\n",
       " 'NEGATIVE',\n",
       " 'POSITIVE',\n",
       " 'POSITIVE',\n",
       " 'POSITIVE',\n",
       " 'NEGATIVE',\n",
       " 'NEGATIVE',\n",
       " 'POSITIVE',\n",
       " 'POSITIVE',\n",
       " 'POSITIVE',\n",
       " 'POSITIVE',\n",
       " 'POSITIVE',\n",
       " 'NEGATIVE',\n",
       " 'POSITIVE',\n",
       " 'POSITIVE',\n",
       " 'POSITIVE',\n",
       " 'POSITIVE',\n",
       " 'NEGATIVE',\n",
       " 'NEGATIVE',\n",
       " 'POSITIVE',\n",
       " 'POSITIVE',\n",
       " 'POSITIVE',\n",
       " 'NEGATIVE',\n",
       " 'POSITIVE',\n",
       " 'POSITIVE',\n",
       " 'POSITIVE',\n",
       " 'NEGATIVE',\n",
       " 'POSITIVE',\n",
       " 'POSITIVE',\n",
       " 'POSITIVE',\n",
       " 'POSITIVE',\n",
       " 'POSITIVE',\n",
       " 'POSITIVE',\n",
       " 'NEGATIVE',\n",
       " 'POSITIVE',\n",
       " 'NEGATIVE',\n",
       " 'NEGATIVE',\n",
       " 'NEGATIVE',\n",
       " 'POSITIVE',\n",
       " 'NEGATIVE',\n",
       " 'POSITIVE',\n",
       " 'POSITIVE',\n",
       " 'NEGATIVE',\n",
       " 'POSITIVE',\n",
       " 'POSITIVE',\n",
       " 'POSITIVE',\n",
       " 'POSITIVE',\n",
       " 'POSITIVE',\n",
       " 'POSITIVE',\n",
       " 'POSITIVE',\n",
       " 'POSITIVE',\n",
       " 'POSITIVE',\n",
       " 'POSITIVE',\n",
       " 'NEGATIVE',\n",
       " 'POSITIVE',\n",
       " 'POSITIVE',\n",
       " 'POSITIVE',\n",
       " 'POSITIVE',\n",
       " 'NEGATIVE',\n",
       " 'NEGATIVE',\n",
       " 'POSITIVE',\n",
       " 'POSITIVE',\n",
       " 'POSITIVE',\n",
       " 'NEGATIVE',\n",
       " 'POSITIVE',\n",
       " 'NEGATIVE',\n",
       " 'POSITIVE',\n",
       " 'POSITIVE',\n",
       " 'NEGATIVE',\n",
       " 'POSITIVE',\n",
       " 'POSITIVE',\n",
       " 'POSITIVE',\n",
       " 'POSITIVE',\n",
       " 'POSITIVE',\n",
       " 'NEGATIVE',\n",
       " 'POSITIVE',\n",
       " 'POSITIVE',\n",
       " 'NEGATIVE',\n",
       " 'POSITIVE',\n",
       " 'POSITIVE',\n",
       " 'POSITIVE',\n",
       " 'POSITIVE',\n",
       " 'POSITIVE',\n",
       " 'POSITIVE',\n",
       " 'POSITIVE',\n",
       " 'POSITIVE',\n",
       " 'POSITIVE',\n",
       " 'POSITIVE',\n",
       " ...]"
      ]
     },
     "execution_count": 54,
     "metadata": {},
     "output_type": "execute_result"
    }
   ],
   "source": [
    "y_pred_1d"
   ]
  },
  {
   "cell_type": "code",
   "execution_count": 55,
   "id": "60814475",
   "metadata": {
    "_uuid": "b3575191bb425ab871f3f41e83812ee84bb7e595",
    "execution": {
     "iopub.execute_input": "2021-12-15T12:03:40.261578Z",
     "iopub.status.busy": "2021-12-15T12:03:40.260537Z",
     "iopub.status.idle": "2021-12-15T12:03:40.262799Z",
     "shell.execute_reply": "2021-12-15T12:03:40.263249Z",
     "shell.execute_reply.started": "2021-12-15T11:31:47.158595Z"
    },
    "papermill": {
     "duration": 0.242492,
     "end_time": "2021-12-15T12:03:40.263407",
     "exception": false,
     "start_time": "2021-12-15T12:03:40.020915",
     "status": "completed"
    },
    "tags": []
   },
   "outputs": [],
   "source": [
    "def plot_confusion_matrix(cm, classes,\n",
    "                          title='Confusion matrix',\n",
    "                          cmap=plt.cm.Blues):\n",
    "    \"\"\"\n",
    "    This function prints and plots the confusion matrix.\n",
    "    Normalization can be applied by setting `normalize=True`.\n",
    "    \"\"\"\n",
    "\n",
    "    cm = cm.astype('float') / cm.sum(axis=1)[:, np.newaxis]\n",
    "\n",
    "    plt.imshow(cm, interpolation='nearest', cmap=cmap)\n",
    "    plt.title(title, fontsize=30)\n",
    "    plt.colorbar()\n",
    "    tick_marks = np.arange(len(classes))\n",
    "    plt.xticks(tick_marks, classes, rotation=90, fontsize=22)\n",
    "    plt.yticks(tick_marks, classes, fontsize=22)\n",
    "\n",
    "    fmt = '.2f'\n",
    "    thresh = cm.max() / 2.\n",
    "    for i, j in itertools.product(range(cm.shape[0]), range(cm.shape[1])):\n",
    "        plt.text(j, i, format(cm[i, j], fmt),\n",
    "                 horizontalalignment=\"center\",\n",
    "                 color=\"white\" if cm[i, j] > thresh else \"black\")\n",
    "\n",
    "    plt.ylabel('True label', fontsize=25)\n",
    "    plt.xlabel('Predicted label', fontsize=25)"
   ]
  },
  {
   "cell_type": "code",
   "execution_count": 56,
   "id": "deceee9e",
   "metadata": {
    "_uuid": "a57dc6f6211c144491a70f533225edfa95a2dc66",
    "execution": {
     "iopub.execute_input": "2021-12-15T12:03:40.705981Z",
     "iopub.status.busy": "2021-12-15T12:03:40.705175Z",
     "iopub.status.idle": "2021-12-15T12:03:41.001273Z",
     "shell.execute_reply": "2021-12-15T12:03:41.000558Z",
     "shell.execute_reply.started": "2021-12-15T11:31:56.020902Z"
    },
    "papermill": {
     "duration": 0.514936,
     "end_time": "2021-12-15T12:03:41.001452",
     "exception": false,
     "start_time": "2021-12-15T12:03:40.486516",
     "status": "completed"
    },
    "tags": []
   },
   "outputs": [
    {
     "data": {
      "image/png": "[encoded data removed]",
      "text/plain": [
       "<Figure size 864x864 with 2 Axes>"
      ]
     },
     "metadata": {
      "needs_background": "light"
     },
     "output_type": "display_data"
    },
    {
     "name": "stdout",
     "output_type": "stream",
     "text": [
      "CPU times: user 328 ms, sys: 96.7 ms, total: 425 ms\n",
      "Wall time: 290 ms\n"
     ]
    }
   ],
   "source": [
    "%%time\n",
    "\n",
    "cnf_matrix = confusion_matrix(y_test_1d, y_pred_1d)\n",
    "plt.figure(figsize=(12,12))\n",
    "plot_confusion_matrix(cnf_matrix, classes=df_train.target.unique(), title=\"Confusion matrix\")\n",
    "plt.show()"
   ]
  },
  {
   "cell_type": "markdown",
   "id": "382e750d",
   "metadata": {
    "_uuid": "e23b957348dcc084249d3cc7538b972da471c2cd",
    "papermill": {
     "duration": 0.355828,
     "end_time": "2021-12-15T12:03:41.581489",
     "exception": false,
     "start_time": "2021-12-15T12:03:41.225661",
     "status": "completed"
    },
    "tags": []
   },
   "source": [
    "### Classification Report"
   ]
  },
  {
   "cell_type": "code",
   "execution_count": 57,
   "id": "b3a6167e",
   "metadata": {
    "_uuid": "a7fe05b7caa1c984ff1deb0be2f7c6bc043df9f5",
    "execution": {
     "iopub.execute_input": "2021-12-15T12:03:42.304366Z",
     "iopub.status.busy": "2021-12-15T12:03:42.303545Z",
     "iopub.status.idle": "2021-12-15T12:03:42.402711Z",
     "shell.execute_reply": "2021-12-15T12:03:42.403874Z",
     "shell.execute_reply.started": "2021-12-15T11:31:52.287041Z"
    },
    "papermill": {
     "duration": 0.461337,
     "end_time": "2021-12-15T12:03:42.404097",
     "exception": false,
     "start_time": "2021-12-15T12:03:41.942760",
     "status": "completed"
    },
    "tags": []
   },
   "outputs": [
    {
     "name": "stdout",
     "output_type": "stream",
     "text": [
      "              precision    recall  f1-score   support\n",
      "\n",
      "    NEGATIVE       0.52      0.85      0.65       867\n",
      "    POSITIVE       0.97      0.87      0.92      5154\n",
      "\n",
      "    accuracy                           0.87      6021\n",
      "   macro avg       0.75      0.86      0.78      6021\n",
      "weighted avg       0.91      0.87      0.88      6021\n",
      "\n"
     ]
    }
   ],
   "source": [
    "print(classification_report(y_test_1d, y_pred_1d))"
   ]
  },
  {
   "cell_type": "markdown",
   "id": "1e8d6e45",
   "metadata": {
    "_uuid": "4eb300f0c6693a618587c7dcf32f77f5416cbfb9",
    "papermill": {
     "duration": 0.223581,
     "end_time": "2021-12-15T12:03:42.856000",
     "exception": false,
     "start_time": "2021-12-15T12:03:42.632419",
     "status": "completed"
    },
    "tags": []
   },
   "source": [
    "### Accuracy Score"
   ]
  },
  {
   "cell_type": "code",
   "execution_count": 58,
   "id": "4a14a268",
   "metadata": {
    "_uuid": "5cf76e6e09f8a60ed25947932b94c772eda44d23",
    "execution": {
     "iopub.execute_input": "2021-12-15T12:03:43.310460Z",
     "iopub.status.busy": "2021-12-15T12:03:43.309663Z",
     "iopub.status.idle": "2021-12-15T12:03:43.321138Z",
     "shell.execute_reply": "2021-12-15T12:03:43.320678Z",
     "shell.execute_reply.started": "2021-12-15T11:32:00.777518Z"
    },
    "papermill": {
     "duration": 0.240229,
     "end_time": "2021-12-15T12:03:43.321262",
     "exception": false,
     "start_time": "2021-12-15T12:03:43.081033",
     "status": "completed"
    },
    "tags": []
   },
   "outputs": [
    {
     "data": {
      "text/plain": [
       "0.8661351934894536"
      ]
     },
     "execution_count": 58,
     "metadata": {},
     "output_type": "execute_result"
    }
   ],
   "source": [
    "accuracy_score(y_test_1d, y_pred_1d)"
   ]
  },
  {
   "cell_type": "markdown",
   "id": "7ff17e44",
   "metadata": {
    "_uuid": "4f014c32f3833db282e1a075c526604f34e3158c",
    "papermill": {
     "duration": 0.221559,
     "end_time": "2021-12-15T12:03:43.757986",
     "exception": false,
     "start_time": "2021-12-15T12:03:43.536427",
     "status": "completed"
    },
    "tags": []
   },
   "source": [
    "### Save model"
   ]
  },
  {
   "cell_type": "code",
   "execution_count": 59,
   "id": "894ac2a6",
   "metadata": {
    "_uuid": "3b2b3ad5b592977b404acfa1c9ad303a62837255",
    "execution": {
     "iopub.execute_input": "2021-12-15T12:03:44.214488Z",
     "iopub.status.busy": "2021-12-15T12:03:44.206171Z",
     "iopub.status.idle": "2021-12-15T12:03:44.677534Z",
     "shell.execute_reply": "2021-12-15T12:03:44.678711Z",
     "shell.execute_reply.started": "2021-12-15T11:32:03.186290Z"
    },
    "papermill": {
     "duration": 0.705491,
     "end_time": "2021-12-15T12:03:44.678948",
     "exception": false,
     "start_time": "2021-12-15T12:03:43.973457",
     "status": "completed"
    },
    "tags": []
   },
   "outputs": [],
   "source": [
    "model.save(KERAS_MODEL)\n",
    "w2v_model.save(WORD2VEC_MODEL)\n",
    "pickle.dump(tokenizer, open(TOKENIZER_MODEL, \"wb\"), protocol=0)\n",
    "pickle.dump(encoder, open(ENCODER_MODEL, \"wb\"), protocol=0)"
   ]
  }
 ],
 "metadata": {
  "kernelspec": {
   "display_name": "Python 3",
   "language": "python",
   "name": "python3"
  },
  "language_info": {
   "codemirror_mode": {
    "name": "ipython",
    "version": 3
   },
   "file_extension": ".py",
   "mimetype": "text/x-python",
   "name": "python",
   "nbconvert_exporter": "python",
   "pygments_lexer": "ipython3",
   "version": "3.7.12"
  },
  "papermill": {
   "default_parameters": {},
   "duration": 1410.28653,
   "end_time": "2021-12-15T12:03:47.967100",
   "environment_variables": {},
   "exception": null,
   "input_path": "__notebook__.ipynb",
   "output_path": "__notebook__.ipynb",
   "parameters": {},
   "start_time": "2021-12-15T11:40:17.680570",
   "version": "2.3.3"
  }
 },
 "nbformat": 4,
 "nbformat_minor": 5
}
